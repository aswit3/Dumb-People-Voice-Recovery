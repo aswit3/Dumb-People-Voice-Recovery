{
  "nbformat": 4,
  "nbformat_minor": 0,
  "metadata": {
    "colab": {
      "name": "Audio_Augmentation.ipynb",
      "provenance": [],
      "mount_file_id": "1pdKS_9tCPGJEkPTnD248z4gVI3PwmERC",
      "authorship_tag": "ABX9TyOcFJysFyUoDqkL3ocJw5I5",
      "include_colab_link": true
    },
    "kernelspec": {
      "name": "python3",
      "display_name": "Python 3"
    },
    "accelerator": "GPU"
  },
  "cells": [
    {
      "cell_type": "markdown",
      "metadata": {
        "id": "view-in-github",
        "colab_type": "text"
      },
      "source": [
        "<a href=\"https://colab.research.google.com/github/aswit3/Dumb-People-Voice-Recovery/blob/master/Audio_Augmentation.ipynb\" target=\"_parent\"><img src=\"https://colab.research.google.com/assets/colab-badge.svg\" alt=\"Open In Colab\"/></a>"
      ]
    },
    {
      "cell_type": "markdown",
      "metadata": {
        "id": "Z-WlQzOTApAk",
        "colab_type": "text"
      },
      "source": [
        "# Noise Injection"
      ]
    },
    {
      "cell_type": "code",
      "metadata": {
        "id": "HNNEGzJy5-WC",
        "colab_type": "code",
        "colab": {}
      },
      "source": [
        "import numpy as np\n",
        "def noise_injection(data, noise_factor):\n",
        "    noise = np.random.randn(len(data))\n",
        "    augmented_data = data + noise_factor * noise\n",
        "    # Cast back to same data type\n",
        "    augmented_data = augmented_data.astype(type(data[0]))\n",
        "    return augmented_data"
      ],
      "execution_count": 0,
      "outputs": []
    },
    {
      "cell_type": "markdown",
      "metadata": {
        "id": "lSE3wQIDAk2w",
        "colab_type": "text"
      },
      "source": [
        "# Shifting Time\n"
      ]
    },
    {
      "cell_type": "code",
      "metadata": {
        "id": "1Ofzb0El7LQH",
        "colab_type": "code",
        "colab": {}
      },
      "source": [
        "def shifting_time(data, sampling_rate, shift_max, shift_direction):\n",
        "    shift = np.random.randint(sampling_rate * shift_max)\n",
        "    if shift_direction == 'right':\n",
        "        shift = -shift\n",
        "    elif self.shift_direction == 'both':\n",
        "        direction = np.random.randint(0, 2)\n",
        "        if direction == 1:\n",
        "            shift = -shift\n",
        "    augmented_data = np.roll(data, shift)\n",
        "    # Set to silence for heading/ tailing\n",
        "    if shift > 0:\n",
        "        augmented_data[:shift] = 0\n",
        "    else:\n",
        "        augmented_data[shift:] = 0\n",
        "    return augmented_data"
      ],
      "execution_count": 0,
      "outputs": []
    },
    {
      "cell_type": "markdown",
      "metadata": {
        "id": "qzh_D66W7rgU",
        "colab_type": "text"
      },
      "source": [
        "# Changing Pitch"
      ]
    },
    {
      "cell_type": "code",
      "metadata": {
        "id": "vGoWGYE47eGM",
        "colab_type": "code",
        "colab": {}
      },
      "source": [
        "import librosa\n",
        "def change_pitch(data, sampling_rate, pitch_factor):\n",
        "    return librosa.effects.pitch_shift(data, sampling_rate, pitch_factor)"
      ],
      "execution_count": 0,
      "outputs": []
    },
    {
      "cell_type": "markdown",
      "metadata": {
        "id": "RRGkMImi7t0l",
        "colab_type": "text"
      },
      "source": [
        "# Changing Speed"
      ]
    },
    {
      "cell_type": "code",
      "metadata": {
        "id": "tR8G0p617ktJ",
        "colab_type": "code",
        "colab": {}
      },
      "source": [
        "import librosa\n",
        "def change_speed(data, speed_factor):\n",
        "    return librosa.effects.time_stretch(data, speed_factor)"
      ],
      "execution_count": 0,
      "outputs": []
    },
    {
      "cell_type": "markdown",
      "metadata": {
        "id": "CkLgGmHCEj2u",
        "colab_type": "text"
      },
      "source": [
        "# MultiProcessing"
      ]
    },
    {
      "cell_type": "code",
      "metadata": {
        "id": "P585csaxEmy-",
        "colab_type": "code",
        "colab": {}
      },
      "source": [
        "from multiprocessing import Pool, cpu_count\n",
        "\n",
        "def parallelize_dataframe(df, func, n_cores=4):\n",
        "    df_split = np.array_split(df, n_cores)\n",
        "    pool = Pool(n_cores)\n",
        "    df = pd.concat(pool.map(func, df_split))\n",
        "    pool.close()\n",
        "    pool.join()\n",
        "    return df"
      ],
      "execution_count": 0,
      "outputs": []
    },
    {
      "cell_type": "code",
      "metadata": {
        "id": "Yqqyd7bsGHi-",
        "colab_type": "code",
        "colab": {}
      },
      "source": [
        "import os\n",
        "\n",
        "os.chdir(\"/content/drive/My Drive/just\")"
      ],
      "execution_count": 0,
      "outputs": []
    },
    {
      "cell_type": "code",
      "metadata": {
        "id": "Dw8YykKAFduE",
        "colab_type": "code",
        "colab": {}
      },
      "source": [
        "import pandas as pd\n",
        "\n",
        "df_train = pd.read_csv(\"train.csv\")\n",
        "df_dev = pd.read_csv(\"dev.csv\")\n",
        "df_test = pd.read_csv(\"test.csv\")"
      ],
      "execution_count": 0,
      "outputs": []
    },
    {
      "cell_type": "code",
      "metadata": {
        "id": "tIT7HVheXS8B",
        "colab_type": "code",
        "colab": {}
      },
      "source": [
        "class AudioAugmentation:\n",
        "    def read_audio_file(self, file_path):\n",
        "        input_length = 16000\n",
        "        data = librosa.core.load(file_path)[0]\n",
        "        if len(data) > input_length:\n",
        "            data = data[:input_length]\n",
        "        else:\n",
        "            data = np.pad(data, (0, max(0, input_length - len(data))), \"constant\")\n",
        "        return data\n",
        "\n",
        "    def add_noise(self, data):\n",
        "        noise = np.random.randn(len(data))\n",
        "        data_noise = data + 0.005 * noise\n",
        "        return data_noise\n",
        "    def shift(self, data):\n",
        "        return np.roll(data, 1600)\n",
        "    def stretch(self, data, rate=1):\n",
        "        input_length = 16000\n",
        "        data = librosa.effects.time_stretch(data, rate)\n",
        "        if len(data) > input_length:\n",
        "            data = data[:input_length]\n",
        "        else:\n",
        "            data = np.pad(data, (0, max(0, input_length - len(data))), \"constant\")\n",
        "        return data\n",
        "\n",
        "    def write_audio_file(self, file, data, sample_rate=16000):\n",
        "        librosa.output.write_wav(file, data, sample_rate)"
      ],
      "execution_count": 0,
      "outputs": []
    },
    {
      "cell_type": "code",
      "metadata": {
        "id": "w1uSu7bsgd7u",
        "colab_type": "code",
        "colab": {}
      },
      "source": [
        "import librosa\n",
        "import numpy as np\n",
        "\n",
        "aa = AudioAugmentation()\n",
        "tmp = pd.DataFrame()\n",
        "def noise_augmentation_fn(wav_filename):\n",
        "    filename = wav_filename.replace(\".wav\", \"_noise.wav\")\n",
        "    data = aa.read_audio_file(wav_filename)\n",
        "    data = aa.add_noise(data)\n",
        "    aa.write_audio_file(filename, data)\n",
        "    return filename\n",
        "\n",
        "def helper_fn(df_split):\n",
        "    global tmp\n",
        "    tmp[\"wav_filename\"] = df_split[\"wav_filename\"].apply(noise_augmentation_fn)\n",
        "    tmp[\"wav_filesize\"] = tmp[\"wav_filename\"].apply(os.path.getsize)\n",
        "    tmp[\"transcript\"] = df_split[\"transcript\"]\n",
        "    return tmp"
      ],
      "execution_count": 0,
      "outputs": []
    },
    {
      "cell_type": "code",
      "metadata": {
        "id": "EleHFZhXHUZj",
        "colab_type": "code",
        "colab": {}
      },
      "source": [
        "tmp = pd.DataFrame()\n",
        "df_train_noise = parallelize_dataframe(df_train, helper_fn)\n",
        "tmp = pd.DataFrame()\n",
        "df_dev_noise = parallelize_dataframe(df_dev, helper_fn)\n",
        "tmp = pd.DataFrame()\n",
        "df_test_noise = parallelize_dataframe(df_test, helper_fn)"
      ],
      "execution_count": 0,
      "outputs": []
    },
    {
      "cell_type": "code",
      "metadata": {
        "id": "cn0HvngWmqdr",
        "colab_type": "code",
        "outputId": "507bb735-b08a-4bfc-e161-7bf8979cc06f",
        "colab": {
          "base_uri": "https://localhost:8080/",
          "height": 34
        }
      },
      "source": [
        "df_train_noise[\"wav_filename\"][0]"
      ],
      "execution_count": 0,
      "outputs": [
        {
          "output_type": "execute_result",
          "data": {
            "text/plain": [
              "'/content/drive/My Drive/just/DeepSpeech-0.6.1/train/welcome-54_noise.wav'"
            ]
          },
          "metadata": {
            "tags": []
          },
          "execution_count": 11
        }
      ]
    },
    {
      "cell_type": "markdown",
      "metadata": {
        "id": "s4ySvJXjsvBA",
        "colab_type": "text"
      },
      "source": [
        "# shifting"
      ]
    },
    {
      "cell_type": "code",
      "metadata": {
        "id": "vv_-0nj1rEdr",
        "colab_type": "code",
        "colab": {}
      },
      "source": [
        "def shift_augmentation_fn(wav_filename):\n",
        "    filename = wav_filename.replace(\".wav\", \"_shift.wav\")\n",
        "    data = aa.read_audio_file(wav_filename)\n",
        "    data = aa.add_noise(data)\n",
        "    aa.write_audio_file(filename, data)\n",
        "    return filename\n",
        "\n",
        "def helper_fn(df_split):\n",
        "    global tmp\n",
        "    tmp[\"wav_filename\"] = df_split[\"wav_filename\"].apply(shift_augmentation_fn)\n",
        "    tmp[\"wav_filesize\"] = tmp[\"wav_filename\"].apply(os.path.getsize)\n",
        "    tmp[\"transcript\"] = df_split[\"transcript\"]\n",
        "    return tmp\n",
        "\n",
        "tmp = pd.DataFrame()\n",
        "df_train_shift = parallelize_dataframe(df_train, helper_fn)\n",
        "tmp = pd.DataFrame()\n",
        "df_dev_shift = parallelize_dataframe(df_dev, helper_fn)\n",
        "tmp = pd.DataFrame()\n",
        "df_test_shift = parallelize_dataframe(df_test, helper_fn)"
      ],
      "execution_count": 0,
      "outputs": []
    },
    {
      "cell_type": "markdown",
      "metadata": {
        "id": "ARwyYCpLuEet",
        "colab_type": "text"
      },
      "source": [
        "# stretch"
      ]
    },
    {
      "cell_type": "code",
      "metadata": {
        "id": "pUxOzWOIuAMy",
        "colab_type": "code",
        "colab": {}
      },
      "source": [
        "def stretch_augmentation_fn(wav_filename):\n",
        "    filename = wav_filename.replace(\".wav\", \"_stretch.wav\")\n",
        "    data = aa.read_audio_file(wav_filename)\n",
        "    data = aa.add_noise(data)\n",
        "    aa.write_audio_file(filename, data)\n",
        "    return filename\n",
        "\n",
        "def helper_fn(df_split):\n",
        "    global tmp\n",
        "    tmp[\"wav_filename\"] = df_split[\"wav_filename\"].apply(stretch_augmentation_fn)\n",
        "    tmp[\"wav_filesize\"] = tmp[\"wav_filename\"].apply(os.path.getsize)\n",
        "    tmp[\"transcript\"] = df_split[\"transcript\"]\n",
        "    return tmp\n",
        "\n",
        "tmp = pd.DataFrame()\n",
        "df_train_stretch = parallelize_dataframe(df_train, helper_fn)\n",
        "tmp = pd.DataFrame()\n",
        "df_dev_stretch = parallelize_dataframe(df_dev, helper_fn)\n",
        "tmp = pd.DataFrame()\n",
        "df_test_stretch = parallelize_dataframe(df_test, helper_fn)"
      ],
      "execution_count": 0,
      "outputs": []
    },
    {
      "cell_type": "markdown",
      "metadata": {
        "id": "2SZteLGRuqjn",
        "colab_type": "text"
      },
      "source": [
        "# Combine all "
      ]
    },
    {
      "cell_type": "code",
      "metadata": {
        "id": "uqbfk845udoO",
        "colab_type": "code",
        "colab": {}
      },
      "source": [
        "df_train_all = pd.concat([df_train, df_train_noise, df_train_shift, df_train_stretch], axis=0)"
      ],
      "execution_count": 0,
      "outputs": []
    },
    {
      "cell_type": "code",
      "metadata": {
        "id": "sVWH6eE9vNoY",
        "colab_type": "code",
        "outputId": "db5bb5c7-6b08-4a9d-944c-04367e530a27",
        "colab": {
          "base_uri": "https://localhost:8080/",
          "height": 34
        }
      },
      "source": [
        "df_train_all.shape"
      ],
      "execution_count": 0,
      "outputs": [
        {
          "output_type": "execute_result",
          "data": {
            "text/plain": [
              "(2324, 3)"
            ]
          },
          "metadata": {
            "tags": []
          },
          "execution_count": 15
        }
      ]
    },
    {
      "cell_type": "code",
      "metadata": {
        "id": "IxIOpXA8vR8D",
        "colab_type": "code",
        "colab": {}
      },
      "source": [
        "df_dev_all = pd.concat([df_dev, df_dev_noise, df_dev_shift, df_dev_stretch], axis=0)\n",
        "df_test_all = pd.concat([df_test, df_test_noise, df_test_shift, df_test_stretch], axis=0)"
      ],
      "execution_count": 0,
      "outputs": []
    },
    {
      "cell_type": "code",
      "metadata": {
        "id": "0DvXUnKHvoLI",
        "colab_type": "code",
        "colab": {}
      },
      "source": [
        "df_train_all.to_csv(\"train_all.csv\", index=False)"
      ],
      "execution_count": 0,
      "outputs": []
    },
    {
      "cell_type": "code",
      "metadata": {
        "id": "l9gPYjmIvy1J",
        "colab_type": "code",
        "colab": {}
      },
      "source": [
        "df_dev_all.to_csv(\"dev_all.csv\", index=False)"
      ],
      "execution_count": 0,
      "outputs": []
    },
    {
      "cell_type": "code",
      "metadata": {
        "id": "zMjkfdL-v5Ye",
        "colab_type": "code",
        "colab": {}
      },
      "source": [
        "df_test_all.to_csv(\"test_all.csv\", index=False)"
      ],
      "execution_count": 0,
      "outputs": []
    },
    {
      "cell_type": "code",
      "metadata": {
        "id": "6-iuMPauzn3j",
        "colab_type": "code",
        "outputId": "dba86af8-4989-4a63-c265-a5e065c58cbc",
        "colab": {
          "base_uri": "https://localhost:8080/",
          "height": 49
        }
      },
      "source": [
        "df_dev_all[df_dev_all[\"wav_filesize\"] < 400]"
      ],
      "execution_count": 0,
      "outputs": [
        {
          "output_type": "execute_result",
          "data": {
            "text/html": [
              "<div>\n",
              "<style scoped>\n",
              "    .dataframe tbody tr th:only-of-type {\n",
              "        vertical-align: middle;\n",
              "    }\n",
              "\n",
              "    .dataframe tbody tr th {\n",
              "        vertical-align: top;\n",
              "    }\n",
              "\n",
              "    .dataframe thead th {\n",
              "        text-align: right;\n",
              "    }\n",
              "</style>\n",
              "<table border=\"1\" class=\"dataframe\">\n",
              "  <thead>\n",
              "    <tr style=\"text-align: right;\">\n",
              "      <th></th>\n",
              "      <th>wav_filename</th>\n",
              "      <th>wav_filesize</th>\n",
              "      <th>transcript</th>\n",
              "    </tr>\n",
              "  </thead>\n",
              "  <tbody>\n",
              "  </tbody>\n",
              "</table>\n",
              "</div>"
            ],
            "text/plain": [
              "Empty DataFrame\n",
              "Columns: [wav_filename, wav_filesize, transcript]\n",
              "Index: []"
            ]
          },
          "metadata": {
            "tags": []
          },
          "execution_count": 29
        }
      ]
    },
    {
      "cell_type": "code",
      "metadata": {
        "id": "JLMRfzqmz0Va",
        "colab_type": "code",
        "outputId": "f5335da2-4eac-483a-897c-32e0361c38a6",
        "colab": {
          "base_uri": "https://localhost:8080/",
          "height": 221
        }
      },
      "source": [
        "df_train_all[\"wav_filesize\"]"
      ],
      "execution_count": 0,
      "outputs": [
        {
          "output_type": "execute_result",
          "data": {
            "text/plain": [
              "0      191708\n",
              "1      111712\n",
              "2       73716\n",
              "3      125712\n",
              "4      117712\n",
              "        ...  \n",
              "576    128058\n",
              "577    128058\n",
              "578    128058\n",
              "579    128058\n",
              "580    128058\n",
              "Name: wav_filesize, Length: 2324, dtype: int64"
            ]
          },
          "metadata": {
            "tags": []
          },
          "execution_count": 23
        }
      ]
    },
    {
      "cell_type": "code",
      "metadata": {
        "id": "nloq0PM0z_My",
        "colab_type": "code",
        "colab": {}
      },
      "source": [
        "import librosa\n",
        "import IPython.display as ipd"
      ],
      "execution_count": 0,
      "outputs": []
    },
    {
      "cell_type": "code",
      "metadata": {
        "id": "Txl2eQhO7Acq",
        "colab_type": "code",
        "colab": {}
      },
      "source": [
        "def load_audio_file(file_path):\n",
        "    input_length = 16000\n",
        "    data = librosa.core.load(file_path)[0] #, sr=16000\n",
        "    if len(data)>input_length:\n",
        "        data = data[:input_length]\n",
        "    else:\n",
        "        data = np.pad(data, (0, max(0, input_length - len(data))), \"constant\")\n",
        "    return data"
      ],
      "execution_count": 0,
      "outputs": []
    },
    {
      "cell_type": "code",
      "metadata": {
        "id": "MzDD_ZQn7MBZ",
        "colab_type": "code",
        "colab": {}
      },
      "source": [
        "data = load_audio_file(\"../input/train/audio/off/1df483c0_nohash_0.wav\")\n",
        "ipd.Audio(data, rate=16000)"
      ],
      "execution_count": 0,
      "outputs": []
    }
  ]
}