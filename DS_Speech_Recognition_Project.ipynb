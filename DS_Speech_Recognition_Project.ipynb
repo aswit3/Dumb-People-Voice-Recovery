{
  "nbformat": 4,
  "nbformat_minor": 0,
  "metadata": {
    "colab": {
      "name": "DS_Speech_Recognition_Project.ipynb",
      "provenance": [],
      "collapsed_sections": [
        "zYRLsDP1O204",
        "LrwaC0D8UZPq"
      ],
      "include_colab_link": true
    },
    "kernelspec": {
      "name": "python3",
      "display_name": "Python 3"
    },
    "accelerator": "GPU"
  },
  "cells": [
    {
      "cell_type": "markdown",
      "metadata": {
        "id": "view-in-github",
        "colab_type": "text"
      },
      "source": [
        "<a href=\"https://colab.research.google.com/github/aswit3/Dumb-People-Voice-Recovery/blob/master/DS_Speech_Recognition_Project.ipynb\" target=\"_parent\"><img src=\"https://colab.research.google.com/assets/colab-badge.svg\" alt=\"Open In Colab\"/></a>"
      ]
    },
    {
      "cell_type": "code",
      "metadata": {
        "id": "uGn-DFhok24e",
        "colab_type": "code",
        "colab": {}
      },
      "source": [
        "import os"
      ],
      "execution_count": 0,
      "outputs": []
    },
    {
      "cell_type": "code",
      "metadata": {
        "id": "1HVmcSvEaADe",
        "colab_type": "code",
        "outputId": "39f5fc96-5b3c-477c-f229-9b157c764d09",
        "colab": {
          "base_uri": "https://localhost:8080/",
          "height": 124
        }
      },
      "source": [
        "from google.colab import drive\n",
        "drive.mount('/content/drive')"
      ],
      "execution_count": 0,
      "outputs": [
        {
          "output_type": "stream",
          "text": [
            "Go to this URL in a browser: https://accounts.google.com/o/oauth2/auth?client_id=947318989803-6bn6qk8qdgf4n4g3pfee6491hc0brc4i.apps.googleusercontent.com&redirect_uri=urn%3aietf%3awg%3aoauth%3a2.0%3aoob&response_type=code&scope=email%20https%3a%2f%2fwww.googleapis.com%2fauth%2fdocs.test%20https%3a%2f%2fwww.googleapis.com%2fauth%2fdrive%20https%3a%2f%2fwww.googleapis.com%2fauth%2fdrive.photos.readonly%20https%3a%2f%2fwww.googleapis.com%2fauth%2fpeopleapi.readonly\n",
            "\n",
            "Enter your authorization code:\n",
            "··········\n",
            "Mounted at /content/drive\n"
          ],
          "name": "stdout"
        }
      ]
    },
    {
      "cell_type": "code",
      "metadata": {
        "id": "MWhr4f1ilrio",
        "colab_type": "code",
        "colab": {}
      },
      "source": [
        "os.chdir(\"/content/drive/My Drive/just/DeepSpeech-0.6.1\")"
      ],
      "execution_count": 0,
      "outputs": []
    },
    {
      "cell_type": "code",
      "metadata": {
        "id": "KnFKFPC_l6UZ",
        "colab_type": "code",
        "outputId": "9a13f875-c88b-4988-a84f-b2d58f4cd74d",
        "colab": {
          "base_uri": "https://localhost:8080/",
          "height": 34
        }
      },
      "source": [
        "pwd"
      ],
      "execution_count": 0,
      "outputs": [
        {
          "output_type": "execute_result",
          "data": {
            "text/plain": [
              "'/content/drive/My Drive/just/DeepSpeech-0.6.1'"
            ]
          },
          "metadata": {
            "tags": []
          },
          "execution_count": 7
        }
      ]
    },
    {
      "cell_type": "code",
      "metadata": {
        "id": "oHo_bcQwm8x2",
        "colab_type": "code",
        "colab": {}
      },
      "source": [
        "# !tar -xvf DeepSpeech-0.6.1.tar.gz"
      ],
      "execution_count": 0,
      "outputs": []
    },
    {
      "cell_type": "code",
      "metadata": {
        "id": "3kaOI9IInmna",
        "colab_type": "code",
        "colab": {}
      },
      "source": [
        "# !tar -xvf deepspeech-0.6.1-checkpoint.tar.gz"
      ],
      "execution_count": 0,
      "outputs": []
    },
    {
      "cell_type": "code",
      "metadata": {
        "id": "NoHLSiFgoCxr",
        "colab_type": "code",
        "colab": {}
      },
      "source": [
        "# !unzip train.zip"
      ],
      "execution_count": 0,
      "outputs": []
    },
    {
      "cell_type": "code",
      "metadata": {
        "id": "kbVyZ6amoNh7",
        "colab_type": "code",
        "colab": {}
      },
      "source": [
        "# !unzip Dumb_Speech_Recognition_training-data.zip"
      ],
      "execution_count": 0,
      "outputs": []
    },
    {
      "cell_type": "code",
      "metadata": {
        "id": "-Ca_mc-poT-D",
        "colab_type": "code",
        "colab": {}
      },
      "source": [
        "# !unzip lm_trie_alpha.zip"
      ],
      "execution_count": 0,
      "outputs": []
    },
    {
      "cell_type": "code",
      "metadata": {
        "id": "QeCSDz6iowwk",
        "colab_type": "code",
        "colab": {}
      },
      "source": [
        "# pwd"
      ],
      "execution_count": 0,
      "outputs": []
    },
    {
      "cell_type": "code",
      "metadata": {
        "id": "Q0jK8yvQpjJU",
        "colab_type": "code",
        "colab": {}
      },
      "source": [
        "os.chdir(\"/content/drive/My Drive/just/DeepSpeech-0.6.1\")"
      ],
      "execution_count": 0,
      "outputs": []
    },
    {
      "cell_type": "code",
      "metadata": {
        "id": "MPbzNRKQdbOh",
        "colab_type": "code",
        "outputId": "67ca13fb-d818-41ac-afc4-08ace0ef92f2",
        "colab": {
          "base_uri": "https://localhost:8080/",
          "height": 312
        }
      },
      "source": [
        "!nvidia-smi"
      ],
      "execution_count": 0,
      "outputs": [
        {
          "output_type": "stream",
          "text": [
            "Thu Apr  9 01:02:39 2020       \n",
            "+-----------------------------------------------------------------------------+\n",
            "| NVIDIA-SMI 440.64.00    Driver Version: 418.67       CUDA Version: 10.1     |\n",
            "|-------------------------------+----------------------+----------------------+\n",
            "| GPU  Name        Persistence-M| Bus-Id        Disp.A | Volatile Uncorr. ECC |\n",
            "| Fan  Temp  Perf  Pwr:Usage/Cap|         Memory-Usage | GPU-Util  Compute M. |\n",
            "|===============================+======================+======================|\n",
            "|   0  Tesla P100-PCIE...  Off  | 00000000:00:04.0 Off |                    0 |\n",
            "| N/A   34C    P0    26W / 250W |      0MiB / 16280MiB |      0%      Default |\n",
            "+-------------------------------+----------------------+----------------------+\n",
            "                                                                               \n",
            "+-----------------------------------------------------------------------------+\n",
            "| Processes:                                                       GPU Memory |\n",
            "|  GPU       PID   Type   Process name                             Usage      |\n",
            "|=============================================================================|\n",
            "|  No running processes found                                                 |\n",
            "+-----------------------------------------------------------------------------+\n"
          ],
          "name": "stdout"
        }
      ]
    },
    {
      "cell_type": "code",
      "metadata": {
        "id": "9U1KQE3_d3fm",
        "colab_type": "code",
        "outputId": "28855829-ca71-43b6-c25b-9f928366f2a4",
        "colab": {
          "base_uri": "https://localhost:8080/",
          "height": 34
        }
      },
      "source": [
        "pwd"
      ],
      "execution_count": 0,
      "outputs": [
        {
          "output_type": "execute_result",
          "data": {
            "text/plain": [
              "'/content/drive/My Drive/just/DeepSpeech-0.6.1'"
            ]
          },
          "metadata": {
            "tags": []
          },
          "execution_count": 12
        }
      ]
    },
    {
      "cell_type": "code",
      "metadata": {
        "id": "X_9RQyu6d6JZ",
        "colab_type": "code",
        "outputId": "9c1dbde9-e958-41ad-a5d8-f134213f512b",
        "colab": {
          "base_uri": "https://localhost:8080/",
          "height": 468
        }
      },
      "source": [
        "ls"
      ],
      "execution_count": 0,
      "outputs": [
        {
          "output_type": "stream",
          "text": [
            "Audio_Augmentation007.ipynb\n",
            "Audio_Augumentation.ipynb\n",
            "\u001b[0m\u001b[01;34mbin\u001b[0m/\n",
            "build-python-wheel.yml-DISABLED_ENABLE_ME_TO_REBUILD_DURING_PR\n",
            "csv_files__04-03-2020.zip\n",
            "\u001b[01;34mDeepSpeech-examples\u001b[0m/\n",
            "\u001b[01;34mdoc\u001b[0m/\n",
            "DS_Speech_Recognition_Project.ipynb\n",
            "evaluate.py\n",
            "evaluate_tflite.py\n",
            "\u001b[01;34mexamples\u001b[0m/\n",
            "\u001b[01;34mimages\u001b[0m/\n",
            "ISSUE_TEMPLATE.md\n",
            "\u001b[01;34mmodel_checkpoint\u001b[0m/\n",
            "\u001b[01;34mmodel_file\u001b[0m/\n",
            "\u001b[01;34m__pycache__\u001b[0m/\n",
            "README.rst\n",
            "RELEASE.rst\n",
            "requirements_eval_tflite.txt\n",
            "requirements.txt\n",
            "stats.py\n",
            "SUPPORT.rst\n",
            "\u001b[01;34mtaskcluster\u001b[0m/\n",
            "test_04-03-2020.csv\n",
            "\u001b[01;34mutil\u001b[0m/\n",
            "vokoscreen-2020-03-14_13-04-17.mkv\n"
          ],
          "name": "stdout"
        }
      ]
    },
    {
      "cell_type": "code",
      "metadata": {
        "id": "WBz4FlSarqoe",
        "colab_type": "code",
        "outputId": "1bba80e0-203e-4208-882a-a3efe4dc756c",
        "colab": {
          "base_uri": "https://localhost:8080/",
          "height": 173
        }
      },
      "source": [
        "!pip3 install $(python3 util/taskcluster.py --decoder)"
      ],
      "execution_count": 0,
      "outputs": [
        {
          "output_type": "stream",
          "text": [
            "Traceback (most recent call last):\n",
            "  File \"util/taskcluster.py\", line 153, in <module>\n",
            "    main()\n",
            "  File \"util/taskcluster.py\", line 107, in main\n",
            "    version_string = read('../VERSION').strip()\n",
            "  File \"util/taskcluster.py\", line 69, in read\n",
            "    return open(os.path.join(os.path.dirname(__file__), fname)).read()\n",
            "FileNotFoundError: [Errno 2] No such file or directory: 'util/../VERSION'\n",
            "\u001b[31mERROR: You must give at least one requirement to install (see \"pip help install\")\u001b[0m\n"
          ],
          "name": "stdout"
        }
      ]
    },
    {
      "cell_type": "code",
      "metadata": {
        "id": "eoFhM5U2rwoa",
        "colab_type": "code",
        "colab": {}
      },
      "source": [
        "\n",
        "# !pip3 install -r requirements.txt"
      ],
      "execution_count": 0,
      "outputs": []
    },
    {
      "cell_type": "code",
      "metadata": {
        "id": "lLzIPTAWp1FT",
        "colab_type": "code",
        "colab": {}
      },
      "source": [
        "!python3 DeepSpeech.py \n",
        "--n_hidde 2048 \n",
        "--checkpoint_dir ../deepspeech-0.6.1-checkpoint \n",
        "--epochs 30 \n",
        "--train_files train.csv \n",
        "--dev_files dev.csv \n",
        "--test_files test.csv \n",
        "--learning_rate 0.0001 \n",
        "--lm ../lm/lm.binary \n",
        "--trie ../lm/trie \n",
        "--alphabet_config_path ../alphabet.txt \n",
        "--use_cudnn_rnn true \n",
        "--export_dir ./model_file/"
      ],
      "execution_count": 0,
      "outputs": []
    },
    {
      "cell_type": "markdown",
      "metadata": {
        "id": "BCbEkWckOiG8",
        "colab_type": "text"
      },
      "source": [
        "# pitch and tempo augmented audio training"
      ]
    },
    {
      "cell_type": "code",
      "metadata": {
        "id": "6E6QqBiwN8Tk",
        "colab_type": "code",
        "colab": {}
      },
      "source": [
        "# !python3 DeepSpeech.py --n_hidden 2048 --checkpoint_dir ../deepspeech-0.6.1-checkpoint --epochs 30 --train_files train.csv --dev_files dev.csv --test_files test.csv --learning_rate 0.0001 --lm ../lm/lm.binary --trie ../lm/trie --alphabet_config_path ../alphabet.txt --use_cudnn_rnn true --export_dir ./model_file/ --augmentation_pitch_and_tempo_scaling true #--augmentation_sparse_warp true --augmentation_freq_and_time_masking true --augmentation_speed_up_std 1"
      ],
      "execution_count": 0,
      "outputs": []
    },
    {
      "cell_type": "markdown",
      "metadata": {
        "id": "zYRLsDP1O204",
        "colab_type": "text"
      },
      "source": [
        "# sparse warp augmentation"
      ]
    },
    {
      "cell_type": "code",
      "metadata": {
        "id": "Mj2FRgFUOu7J",
        "colab_type": "code",
        "colab": {}
      },
      "source": [
        "# !python3 DeepSpeech.py --n_hidden 2048 --checkpoint_dir ../deepspeech-0.6.1-checkpoint --epochs 30 --train_files train.csv --dev_files dev.csv --test_files test.csv --learning_rate 0.0001 --lm ../lm/lm.binary --trie ../lm/trie --alphabet_config_path ../alphabet.txt --use_cudnn_rnn true --export_dir ./model_file/ --augmentation_sparse_warp true #--augmentation_freq_and_time_masking true --augmentation_speed_up_std 1 --augmentation_pitch_and_tempo_scaling true"
      ],
      "execution_count": 0,
      "outputs": []
    },
    {
      "cell_type": "markdown",
      "metadata": {
        "id": "LrwaC0D8UZPq",
        "colab_type": "text"
      },
      "source": [
        "# frequency and_time masking augmentation \n",
        "\n",
        "\n"
      ]
    },
    {
      "cell_type": "code",
      "metadata": {
        "id": "WoyoVsHkUZ3v",
        "colab_type": "code",
        "colab": {}
      },
      "source": [
        "# !python3 DeepSpeech.py --n_hidden 2048 --checkpoint_dir ../deepspeech-0.6.1-checkpoint --epochs 30 --train_files train.csv --dev_files dev.csv --test_files test.csv --learning_rate 0.0001 --lm ../lm/lm.binary --trie ../lm/trie --alphabet_config_path ../alphabet.txt --use_cudnn_rnn true --export_dir ./model_file/  --augmentation_freq_and_time_masking true --load best # --augmentation_speed_up_std 1 --augmentation_pitch_and_tempo_scaling true --augmentation_sparse_warp true"
      ],
      "execution_count": 0,
      "outputs": []
    },
    {
      "cell_type": "markdown",
      "metadata": {
        "id": "Ja4Jbwu2Xgfh",
        "colab_type": "text"
      },
      "source": [
        "# speed augmentation"
      ]
    },
    {
      "cell_type": "code",
      "metadata": {
        "id": "7Ja2raKDXhD9",
        "colab_type": "code",
        "colab": {}
      },
      "source": [
        "# !python3 DeepSpeech.py --n_hidden 2048 --checkpoint_dir ../deepspeech-0.6.1-checkpoint --epochs 30 --train_files train.csv --dev_files dev.csv --test_files test.csv --learning_rate 0.0001 --lm ../lm/lm.binary --trie ../lm/trie --alphabet_config_path ../alphabet.txt --use_cudnn_rnn true --export_dir ./model_file/  --load best --augmentation_speed_up_std 1 # --augmentation_freq_and_time_masking true --augmentation_pitch_and_tempo_scaling true --augmentation_sparse_warp true"
      ],
      "execution_count": 0,
      "outputs": []
    },
    {
      "cell_type": "code",
      "metadata": {
        "id": "zaqoK-cJfHw1",
        "colab_type": "code",
        "colab": {}
      },
      "source": [
        "# !deepspeech --model model_file/output_graph.pb --lm ../lm/lm.binary --trie ../lm/trie --audio ./train/thankyou-100.wav"
      ],
      "execution_count": 0,
      "outputs": []
    },
    {
      "cell_type": "code",
      "metadata": {
        "id": "xKCMPdImJZlD",
        "colab_type": "code",
        "colab": {}
      },
      "source": [
        "# os.chdir(\"/content/drive/My Drive/just/DeepSpeech-0.6.1/\")"
      ],
      "execution_count": 0,
      "outputs": []
    },
    {
      "cell_type": "code",
      "metadata": {
        "id": "CuK37y6SfBpe",
        "colab_type": "code",
        "outputId": "c6b3fa55-3f36-466b-b4ce-21c964c41d68",
        "colab": {
          "base_uri": "https://localhost:8080/",
          "height": 139
        }
      },
      "source": [
        "!pip install deepspeech-gpu==0.6.1"
      ],
      "execution_count": 0,
      "outputs": [
        {
          "output_type": "stream",
          "text": [
            "Collecting deepspeech-gpu==0.6.1\n",
            "\u001b[?25l  Downloading https://files.pythonhosted.org/packages/42/72/1c1c4c0c24094f6574697810c22e5677122e617f44734f7485859b3a7638/deepspeech_gpu-0.6.1-cp36-cp36m-manylinux1_x86_64.whl (18.7MB)\n",
            "\u001b[K     |████████████████████████████████| 18.7MB 158kB/s \n",
            "\u001b[?25hRequirement already satisfied: numpy>=1.7.0 in /usr/local/lib/python3.6/dist-packages (from deepspeech-gpu==0.6.1) (1.17.5)\n",
            "Installing collected packages: deepspeech-gpu\n",
            "Successfully installed deepspeech-gpu-0.6.1\n"
          ],
          "name": "stdout"
        }
      ]
    },
    {
      "cell_type": "code",
      "metadata": {
        "id": "CIhVkQmYDKSw",
        "colab_type": "code",
        "outputId": "1a393771-ee85-46db-a8b9-13231b958796",
        "colab": {
          "base_uri": "https://localhost:8080/",
          "height": 853
        }
      },
      "source": [
        "!sudo apt-get install espeak"
      ],
      "execution_count": 0,
      "outputs": [
        {
          "output_type": "stream",
          "text": [
            "Reading package lists... Done\n",
            "Building dependency tree       \n",
            "Reading state information... Done\n",
            "The following additional packages will be installed:\n",
            "  espeak-data libespeak1 libportaudio2 libsonic0\n",
            "The following NEW packages will be installed:\n",
            "  espeak espeak-data libespeak1 libportaudio2 libsonic0\n",
            "0 upgraded, 5 newly installed, 0 to remove and 25 not upgraded.\n",
            "Need to get 1,219 kB of archives.\n",
            "After this operation, 3,031 kB of additional disk space will be used.\n",
            "Get:1 http://archive.ubuntu.com/ubuntu bionic/universe amd64 libportaudio2 amd64 19.6.0-1 [64.6 kB]\n",
            "Get:2 http://archive.ubuntu.com/ubuntu bionic/main amd64 libsonic0 amd64 0.2.0-6 [13.4 kB]\n",
            "Get:3 http://archive.ubuntu.com/ubuntu bionic/universe amd64 espeak-data amd64 1.48.04+dfsg-5 [934 kB]\n",
            "Get:4 http://archive.ubuntu.com/ubuntu bionic/universe amd64 libespeak1 amd64 1.48.04+dfsg-5 [145 kB]\n",
            "Get:5 http://archive.ubuntu.com/ubuntu bionic/universe amd64 espeak amd64 1.48.04+dfsg-5 [61.6 kB]\n",
            "Fetched 1,219 kB in 0s (10.0 MB/s)\n",
            "debconf: unable to initialize frontend: Dialog\n",
            "debconf: (No usable dialog-like program is installed, so the dialog based frontend cannot be used. at /usr/share/perl5/Debconf/FrontEnd/Dialog.pm line 76, <> line 5.)\n",
            "debconf: falling back to frontend: Readline\n",
            "debconf: unable to initialize frontend: Readline\n",
            "debconf: (This frontend requires a controlling tty.)\n",
            "debconf: falling back to frontend: Teletype\n",
            "dpkg-preconfigure: unable to re-open stdin: \n",
            "Selecting previously unselected package libportaudio2:amd64.\n",
            "(Reading database ... 145118 files and directories currently installed.)\n",
            "Preparing to unpack .../libportaudio2_19.6.0-1_amd64.deb ...\n",
            "Unpacking libportaudio2:amd64 (19.6.0-1) ...\n",
            "Selecting previously unselected package libsonic0:amd64.\n",
            "Preparing to unpack .../libsonic0_0.2.0-6_amd64.deb ...\n",
            "Unpacking libsonic0:amd64 (0.2.0-6) ...\n",
            "Selecting previously unselected package espeak-data:amd64.\n",
            "Preparing to unpack .../espeak-data_1.48.04+dfsg-5_amd64.deb ...\n",
            "Unpacking espeak-data:amd64 (1.48.04+dfsg-5) ...\n",
            "Selecting previously unselected package libespeak1:amd64.\n",
            "Preparing to unpack .../libespeak1_1.48.04+dfsg-5_amd64.deb ...\n",
            "Unpacking libespeak1:amd64 (1.48.04+dfsg-5) ...\n",
            "Selecting previously unselected package espeak.\n",
            "Preparing to unpack .../espeak_1.48.04+dfsg-5_amd64.deb ...\n",
            "Unpacking espeak (1.48.04+dfsg-5) ...\n",
            "Setting up libportaudio2:amd64 (19.6.0-1) ...\n",
            "Setting up espeak-data:amd64 (1.48.04+dfsg-5) ...\n",
            "Setting up libsonic0:amd64 (0.2.0-6) ...\n",
            "Setting up libespeak1:amd64 (1.48.04+dfsg-5) ...\n",
            "Setting up espeak (1.48.04+dfsg-5) ...\n",
            "Processing triggers for man-db (2.8.3-2ubuntu0.1) ...\n",
            "Processing triggers for libc-bin (2.27-3ubuntu1) ...\n",
            "/sbin/ldconfig.real: /usr/local/lib/python3.6/dist-packages/ideep4py/lib/libmkldnn.so.0 is not a symbolic link\n",
            "\n"
          ],
          "name": "stdout"
        }
      ]
    },
    {
      "cell_type": "code",
      "metadata": {
        "id": "JvuCPEpIqeMZ",
        "colab_type": "code",
        "colab": {}
      },
      "source": [
        "# pwd"
      ],
      "execution_count": 0,
      "outputs": []
    },
    {
      "cell_type": "code",
      "metadata": {
        "id": "xVEo6LvYqiMP",
        "colab_type": "code",
        "colab": {}
      },
      "source": [
        "# ls"
      ],
      "execution_count": 0,
      "outputs": []
    },
    {
      "cell_type": "code",
      "metadata": {
        "id": "bmpPtwlrJgQM",
        "colab_type": "code",
        "outputId": "f782497f-5d61-460f-baeb-2f05d6990966",
        "colab": {
          "base_uri": "https://localhost:8080/",
          "height": 581
        }
      },
      "source": [
        "!python client.py --model model_file/output_graph.pb --lm lm/lm.binary --trie lm/trie --audio train/hello-2.wav"
      ],
      "execution_count": 0,
      "outputs": [
        {
          "output_type": "stream",
          "text": [
            "Loading model from file model_file/output_graph.pb\n",
            "TensorFlow: v1.14.0-21-ge77504a\n",
            "DeepSpeech: v0.6.1-0-g3df20fe\n",
            "Warning: reading entire model file into memory. Transform model file into an mmapped graph to reduce heap usage.\n",
            "2020-03-14 07:42:10.153148: I tensorflow/core/platform/cpu_feature_guard.cc:142] Your CPU supports instructions that this TensorFlow binary was not compiled to use: AVX2 AVX512F FMA\n",
            "2020-03-14 07:42:10.154935: I tensorflow/stream_executor/platform/default/dso_loader.cc:42] Successfully opened dynamic library libcuda.so.1\n",
            "2020-03-14 07:42:10.175423: I tensorflow/stream_executor/cuda/cuda_gpu_executor.cc:1005] successful NUMA node read from SysFS had negative value (-1), but there must be at least one NUMA node, so returning NUMA node zero\n",
            "2020-03-14 07:42:10.176009: I tensorflow/core/common_runtime/gpu/gpu_device.cc:1640] Found device 0 with properties: \n",
            "name: Tesla P4 major: 6 minor: 1 memoryClockRate(GHz): 1.1135\n",
            "pciBusID: 0000:00:04.0\n",
            "2020-03-14 07:42:10.176031: I tensorflow/stream_executor/platform/default/dlopen_checker_stub.cc:25] GPU libraries are statically linked, skip dlopen check.\n",
            "2020-03-14 07:42:10.176074: I tensorflow/stream_executor/cuda/cuda_gpu_executor.cc:1005] successful NUMA node read from SysFS had negative value (-1), but there must be at least one NUMA node, so returning NUMA node zero\n",
            "2020-03-14 07:42:10.176672: I tensorflow/stream_executor/cuda/cuda_gpu_executor.cc:1005] successful NUMA node read from SysFS had negative value (-1), but there must be at least one NUMA node, so returning NUMA node zero\n",
            "2020-03-14 07:42:10.177088: I tensorflow/core/common_runtime/gpu/gpu_device.cc:1763] Adding visible gpu devices: 0\n",
            "2020-03-14 07:42:10.524659: I tensorflow/core/common_runtime/gpu/gpu_device.cc:1181] Device interconnect StreamExecutor with strength 1 edge matrix:\n",
            "2020-03-14 07:42:10.524720: I tensorflow/core/common_runtime/gpu/gpu_device.cc:1187]      0 \n",
            "2020-03-14 07:42:10.524733: I tensorflow/core/common_runtime/gpu/gpu_device.cc:1200] 0:   N \n",
            "2020-03-14 07:42:10.524846: I tensorflow/stream_executor/cuda/cuda_gpu_executor.cc:1005] successful NUMA node read from SysFS had negative value (-1), but there must be at least one NUMA node, so returning NUMA node zero\n",
            "2020-03-14 07:42:10.525224: I tensorflow/stream_executor/cuda/cuda_gpu_executor.cc:1005] successful NUMA node read from SysFS had negative value (-1), but there must be at least one NUMA node, so returning NUMA node zero\n",
            "2020-03-14 07:42:10.525591: I tensorflow/stream_executor/cuda/cuda_gpu_executor.cc:1005] successful NUMA node read from SysFS had negative value (-1), but there must be at least one NUMA node, so returning NUMA node zero\n",
            "2020-03-14 07:42:10.525924: W tensorflow/core/common_runtime/gpu/gpu_bfc_allocator.cc:40] Overriding allow_growth setting because the TF_FORCE_GPU_ALLOW_GROWTH environment variable is set. Original config value was 0.\n",
            "2020-03-14 07:42:10.525976: I tensorflow/core/common_runtime/gpu/gpu_device.cc:1326] Created TensorFlow device (/job:localhost/replica:0/task:0/device:GPU:0 with 7099 MB memory) -> physical GPU (device: 0, name: Tesla P4, pci bus id: 0000:00:04.0, compute capability: 6.1)\n",
            "Loaded model in 0.707s.\n",
            "Loading language model from files lm/lm.binary lm/trie\n",
            "Loaded language model in 0.00262s.\n",
            "Running inference.\n",
            "\n",
            "\n",
            "hello\n",
            "\n",
            "\n",
            "Inference took 8.689s for 1.339s audio file.\n"
          ],
          "name": "stdout"
        }
      ]
    },
    {
      "cell_type": "code",
      "metadata": {
        "id": "em7gQWitLjvj",
        "colab_type": "code",
        "outputId": "3f7e5f58-8bfb-4dbc-dbd9-43e7dba36e83",
        "colab": {
          "base_uri": "https://localhost:8080/",
          "height": 75
        }
      },
      "source": [
        "from IPython.display import Audio\n",
        "file_name = \"/content/tts.wav\"\n",
        "Audio(file_name, autoplay=True)"
      ],
      "execution_count": 0,
      "outputs": [
        {
          "output_type": "execute_result",
          "data": {
            "text/html": [
              "\n",
              "                <audio controls=\"controls\" autoplay=\"autoplay\">\n",
              "                    <source src=\"data:audio/x-wav;base64,UklGRpB7AABXQVZFZm10IBAAAAABAAEAIlYAAESsAAACABAAZGF0YWx7AAAAAAAAAAAAAAAAAAAAAAAAAAAAAAAAAAAAAAAAAAAAAAAAAAAAAAAAAAAAAAAAAAAAAAAAAAAAAAAAAAAAAAAAAAAAAAAAAAAAAAAAAAAAAAAAAAAAAAAAAAAAAAAAAAAAAAAAAAAAAAAAAAAAAAAAAAAAAAAAAAAAAAAAAAAAAAAAAAAAAAAAAAAAAAAAAAAAAAAAAAAAAAAAAAAAAAAAAAAAAAAAAAAAAAAAAAAAAAAAAAAAAAAAAAAAAAAAAAAAAAAAAAAAAAAAAAAAAAAAAAAAAAAAAAAAAAAAAAAAAAAAAAAAAAAAAAAAAAAAAAAAAAAAAAAAAAAAAAAAAAAAAAAAAAAAAAAAAAAAAAAAAAAAAAAAAAAAAAAAAAAAAAAAAAAAAAAAAAAAAAAAAAAAAAAAAAAAAAAAAAAAAAAAAAAAAAAAAAAAAAAAAAAAAAAAAAAAAAAAAAAAAAAAAAAAAAAAAAAAAAAAAAAAAAAAAAAAAAAAAAAAAAAAAAAAAAAAAAAAAAAAAAAAAAAAAAAAAAAAAAAAAAAAAAAAAAAAAAAAAAAAAAAAAAAAAAAAAAAAAAAAAAAAAAAAAAAAAAAAAAAAAAAAAAAAAAAAAAAAAAAAAAAAAAAAAAAAAAAAAAAAAAAAAAAAAAAAAAAAAAAAAAAAAAAAAAAAAAAAAAAAAAAAAAAAAAAAAAAAAAAAAAAAACEAAAAhAIUAZACb//X+Wf8KAU0BAABCAE0BTQEKAaYAQgAAAAAAQgDe//X+vf+mAKYAWf8t/tP+3v+9/0IA6QAhAPX+sv4t/m/+kf4W/4UALAHIACEAvf/IAE0BLAFuAU0BLAFuAaYAIQAAANP+0/4W//X+vf9CAOkAbgEKAUIAAAC9/yEApgCmAEIApgBCAHr/Wf/e/wAAQgCFAGQAIQDT/ur9Wf8W/07+sv4W/73/AABkAE0BLAFCAKYA6QDe/5v/ZADSAd0CsQFCAHr/3v96/1n/3v9CAKYAZACy/gv+Fv/e/yEAAABZ/73/AAA3/1n/AABCAKYAZAB6/wAA6QCxAW4BAADT/nr/m/8W/0IAkAHSAQoB3v9CAGQAAAC9/3r/AAAsAU0BQgAhAEIAQgCFAEIAAAAhAL3/Wf96/xb/Fv8W/7L+yP1v/iEA0gEVAoUAm//1/pH+ev8AAAAAAAD1/m/+vf+FAGQAZADIAJABbgFCACEAyAAVAlgC6QAsAfQBsQFNAZABAAC9/0IA0/7I/WT96v0AAEIA9f6R/tP+Wf8AALL+kf5kAEIAIQCb/07+ZAD0AfQBkAGmAHr/QgAKAQAAkf6R/mQAZAC9/wAAyAAKAW4B6QDpAMgAWf+9/4UAAAD1/pv/hQAhAL3/IQCFAAoBvf9v/hb/m//1/vX+kf69/0IAhQAKAQAA3v9NATcCLAGFAOkAyAAAAAv+Iv1v/iEAkAHSAYUAyACQAZABpgA3/xb/QgDpAKYA3v9Z/3r/IQBZ/7L+ZAAhAAoB0gGy/ur9hv1D/er9C/6y/oUA0gH0AVgCFQLIAAAA0/43/xUCTQE3/97/Wf9Z/6YACgGmAFn/Wf8KAU0BpgAAAL3/QgDe/3r/QgAKAQoBTQHIAJv/Wf+mALEByACb/1n/N/8AAIUA0/7I/b3/Fv97/EP9m//IACwBZAC9/4UAkAGmABb/N/+mANIBkAEAAKf9Fv8VAjcCAADT/kIAWAIKAXr/Lf6R/sgATQH1/jf/kAFYAv8CNwIAACEAAABZ/9IBCgHe/yEAC/6c/Fr8cPtD/Xr/sv4W/yEAAAAAAL3/Wf+9/yEAeQLHA9IBCgEVAhUCWAJNAUIA3QJBA0IAsv5v/jf/3v83/8j9vvyn/aYAeQLe//X+CgEhAEIApgA3/73/AABv/kP9Lf5v/nr/TQF6/9P+LAGmAN7/IQCb/6YA6QD0Af8C6QCFAPQB9AEsAfQBYwO8AqYAWf/e/wAAyP3U+8j9Wf+mAMgA9f4L/t/8AP31/kIAb/4L/ln/ev/IACwBpgDdAvQB3v9CAJv/CgH0AWQALAEhAN7/ZABkAJABCgGQAfQBAAAL/i3+Wf8KAWQA3v+FAGQAev96/yEApgCFAJH+0/4hAMj9hv3T/hb/TQF5AgoByABCAG4B0gGy/mT9vvzI/Rb/N/9NARUCQgB6/xb/N/+9/ywB/wLSATcChAP/ArEBFv8W/2QAm/+FACwBAAA3/3v83/wAAEIAvf9uAdIByAAAAPX+Fv/e/3r/b/4A/d/8ZABCAJv/TQF6/5H+kAFNAW4BCQQsAXr/6QDT/nr/TQGFAAoByAAKAbEB6v0t+3v86v16/9IBhQDT/iwBsQEsARUCIQCFABUCvf9CAJv/3v95AoUAQgCFAC3+yABYAk0BIQAt/iL9e/x7/C3+m/8hAN7/AACmAOkApgCFAOkAWAK8AjcCkAGb/yEAhQDe/73/Tv69//QBFv8W/wAA6v2R/m/+3/ze/yEApgBBA5v/Q/2y/pH+IQDIAHr/kAHSAVgCsAQgA1n/ZP31/sgAeQJuAVn/vf8AADf/3v9uAQAAZP0L/iEA9f5O/oUAAAAt/jf/sQFjA5sCkAFYArwCCgH1/iL93/wL/jf/pgAsAW/+9f6bAqUDmwIhAPX+IQDe/7L+9vsL/iEAFv83/2T9vvxuAYQD0gHSAdIBNwI3Ai3+nPx6/ywByAA3/9/8N//SAekAsQGmAC3+3/yc/Ib96QC8AjcChQBk/SL93v/e/24BuwWlA6YAeQJYAtIB0gG8AoQD9AGb/97/N//q/dP+WvwX/EIAvvxl+gAA9AEsAfX+ZP2b/yL9WvybAlcFpQO8AmQA6QDdAkIACgHdAkIAWf97/J35OPz1/nr//wI3Ahb/CgEsAW4Bm/++/NP+hv1a/MgAQgAhAN0C9AEKATf/yP1Z/8gAIQCFAGQAm//T/tP+kf5NAdIBsQF4BYQDvf+mAGT9kf7oA1gCLAHq/WT9WAKxAYUAsQHe/5v/LAFkAFn/Wf+b/00B3QJkANT7b/5Z/wv+kf4i/UP9AABv/qYAkAGmAI8EWAIt/t7/9f5Z/5v/kftw+zj8b/6bAlgCyADdArAExwOQAcgAeQIAAMj9RPr2+9IBWAJuAYUATv4X/Bb/3QKn/dX4p/0KAf8CFv8X/JABIAOOB0AJbgHIAIQD0gEKAU7+Q/15AqUDLf5l+pz8b/69/y3+F/zI/Tf/IQDpABb/hQATCHgIQQMW/97/FAVLB7EB9vv2+0/70/5NAUP9C/5CANIBIAPI/aj63/wi/U7+IQDT/m/+m/9kACEA6v0hAPQBNwJ6/07+ZACR/pH7p/1k/Yf6p/2y/vX+QQNMBIQDhAMAAAD9YwO7Bd0CFv+R+73/3QJ6/0IALAGmAE0B0gTcBZsCpgCxATcC9AEAAFgC6AOG/S3+KwS7BdwFWAJv/lcFxgalA9IEWf+z+9T7GPl7/NT7DfhZ/xUCLf5a/L754fZG9GjxXPNm9yP6yve/9mb3tPic/Bb/FQJ5AmQAYgbwDRIOJxDlD88N5gyNCoIJughWCCoHxwOQAZz8DPvI/b786v3q/Yb90gGFAL78sv4A/QD9vf+R/sj9Q/04/EP9AP2G/YUATv6G/XD7Zvct+y3+6v1D/Xr//wKbAln/ZACEA7wC6QDe/5H71Ps3/0IAQgDT/jf/yABBA48ExwOwBOkAQ/1a/LL+yAAKAeT/z/+z/6D/if9t/1b/Sv9M/2L/hf+u/9//DwA3AFUAWQBDAB4A+v/3/xcAXQDGADIBkwHiARICFQLvAZQBEQF9ANn/Pv+x/kr+Hv40/qD+Pv///74ARwFkAewA2P+N/oP9Mf2c/Xb+Tf8SAAUBjwKYBJYG1AcBCIgHFgfgBm4GBQWFAu//yP4DAA4DLwbfB8sHTgbfBMMDMwLM/5n87PhM9q31dvWv9c/2xPf3+Xr+hwK+BbkIkAjEBfwC3v6J+xz9ZwE7Bh8MyA+GEEwTIxjLG7cdyxyBFqMQ0Q70C/oHjAMe+w31a/gS/6wF5Qp2B5v+C/n79C7xcu/L6qPjDeGj4ZLk3+kR7qfuT/F+9//89AEiBXsCmP1R+uz2xvXC+Bb8WQDXBQYJSgrJC00MDQzPC0kJCwUnAR/+//uZ+tX4svYD9q73Tvs5/0MBdACp/af6mPip9w73Q/aN9an1GfdZ+e377v1H/2MAnwHdApkDbQM3ApMAH/9S/j7+tv6L/34AfgE8ApkCjQIlAoEBvgDt///+Jf6F/Sv9KP1e/cv9M/7I/lz/0/8iADYAGgDt/87/tf+w/8D/5v8RAEoAhgC4AOAA9AD1AOQAvACRAEkACQC//33/R/8j/w//Cf8f/0b/fv+9//X/IgA+AE4ASQAnAPz/0f/B/+T/OwDPAHABHQKaAvUCGQP5AoACwAHPAL//yv4D/m79Kv1U/eD92v4WADIBAQIbAkwBuv/d/W78/Puo/Nz9Fv84ALkBHARHB5gKawyoDN0LAgtmClcJ3gb2AmH/P/6eAGwF/wkrDGgLJgnjBuAEWAKu/oj5T/Q58b3vae9u8BTyHvQU+e//fQUWC5UOdAxNCGwDQfyE+Rz+qgQDDYoVVBjMGSAgxyYLK+8toSiQHY0XABWVDwkKqQC98nvvkPjtAnINxBCgBST54PK27L/oN+Ub2/HRx9F61U/a6OGt5dbmwe1596H+EgVcBq7/T/n89IPwU/HE9hr8PgPkCnUOcxBrEpESvBHlD7AL+gR3/3D75vhV9wf1kPJW8sL1ffvHAIYC8P/q+jn2g/N98ubx/fBc8DDx//MG+Ln7bP4HAFABywJABN4EGwQ1Ar7/4/0f/Yj9uf5JAOMBLwMQBFQE8AMCA7gBRQDY/qX9tPwk/O77DPxx/Bz99f3d/rX/TgCFAFkA+v+H/yb/3P7T/gD/ZP/s/3cA8gBMAXQBZgEjAbYAMQCb/wz/pf5o/m/+sP4u/7n/UQDYADEBVwEsAcQAPwC9/3L/hP/7/9MA3AHkAs0DgQTBBJoEBwT5ApIB9/9P/rf8Y/uy+sr6svtK/UT/OgHhAq8DFgMaART+PPvI+Tz6Efwu/v3/+wFIBTEKcQ8bE0cUjROMEvMR/BB5DSAHOQB8/Ij+eQVIDXUSlhKFD1oM5QmFBjcBo/lp8Nbpd+dR5qfmKulP64XwPvs+BZENrxVYFk8Q0Amf/472IfmgAsoNyhsMJb4m7CxGOYpB8Ub3RZE3vSjUI60djBR6Cuj2g+YP7PP7zQtRGfQUGP7m7kvm4N112hrRkb7qtIm4Ub+9yrnV9Ncu3M3pCfcVAm0KgwaK+jXyGuvt5jXscPXD/hsLZBSPF1gaMBzMG3caBBbSDCgD3PvJ9qPzffBs7Dfqy+xJ9GD9RgO3Apn8n/Ss7tTrteqi6V7oSuin6uLvIPYv+5n+4QAaA30F+gYDB9wERwG2/Y/7LfuO/OL+mgEeBO8FyQaWBnsFyAPCAa3/oP3Q+4v67vnx+X76aPul/An+af9gANQAqgAgAFf/kv4M/ub9OP7C/pz/ZAAQAX8BswGdAUMBoQDk/zD/u/53/nn+tv43/+D/pgBSAdEB7QGpARsBWQCn/0n/aP8kAEwBjALgA+sExAUSBs4F2wRaA3ABav9W/ZL7DvpU+ZD5wPrL/GL/AwINBMUEvQPGAA/92fmc+Hf5lvu9/bb/OgKHBo0MzxLiFt8XxRZ+FakUkhOeDzIIDgC8+2D+oAbBDyYVwRT/EJcN4Qp5B/EB2vhi7pDnw+TQ4yzlgucx6bDvxfrnBHgONxd+F+4RSAuP/zT2/vgMAhQOgh0aJpkndC3rODBCEkmRR2o47SiFIxAeXBaODGn4+eXt6XL6vwvvGWIVTv9g70bnUuDL3FPU6MMYuaq7bsOhzebXQNtv3fvo//YuAcIIYQcq/APzeO3K6TztPPa0/pEIYRHjFG8WGRhlGBoXghNeDIoDq/x4+Pn1cfNF8N3tQ+8k9fP8fAKfArL97va78WHvze4v7gztyexs7nHymPcH/PL+rQBGAgQEiAW7BS8EcgGW/tL8gfyF/TX/MwHzAkAE5gTQBBQE3gJzAeT/Xf4P/R38n/uM+/b7nfx3/XH+Zf8oAHEAaQAjAJj/F//C/qz+4v5Q/8T/SgCsAPYAFQEHAcsAXgDl/1P/Bf/Q/uD+G/95//b/ggAMAVABZQEnAbAAJACq/3f/qP9CAAcBAgLrArQDPwRhBAkENgMRAqEAK/+7/YT8o/tb+6T7pPwm/vP/xQEKA1QDOAL0/zz9O/vF+rL7Vv3L/jEAVQK0BRcKFA5YEIUQlA+GDiQO6QxtCQIE6f4w/UoAagYyDMcOtQ0YC+cICgdEBLL/A/k28mHuHu2w7Pftie9M8cf2uf4QBfsLuxABD0ELwwUC/Qr5zPyVA2ENAheHGiQbpyDSKGgv2zLXLoIiMxmJFjITEw4FBiP2seze8+P/OwutEeIJqvsV85rttum+5nDfmdSm0InTT9mR4KzlJ+cP66DzXvyxAr0FIAK9+tD15/Ls8fb1xPtVAb0HHQx3DUQOyw9jEBoQUQ3EB+cBo/1w+9D5+vfB9cn0wvY/+wAALgKFAF78WPg69ur17vUO9crzpvJT89H1Evnu+/n9gP8yAeUCfwO/Ah4Ba/9M/vX9VP79/tb/vgCpAXcCCgNUA1UDDANyAoABXgBB/1f+w/22/cv9EP6B/v3+cf+8/9j/u/+V/1r/Hf/p/sj+tf7E/tP+Cf9G/37/sv/Q/+X//v8eAEQAZQCSAM4ABQEyAUgBSwEsAfYAwgCSAG4AXABqAJwAzAAMAVUBjQGXAWsBAwEuAF//ef6W/eD8hPye/CH9+/3a/pz/LgCOANAA/gAeARUBxQAzAJj/X//s/zgB8gK1BCIGggfzCCUKbApJCREHiwRLA0IDhAPqAjoBdv8Q/3kAyAJBBOQD8gG5/yj+nfxt+pv3gfT58jn01/ar+RL8Y/0W/sf/uQHqA1UGAQfnBVkEAAJcAOoBXQVaCZ0N0g+3D3kRyhO6FKIUoBFMDMEJLwk5CIcGCwKg+/35fP3rAZkF5gTQ/uz5KPg19y73WvXC8D7t5eye7bbvoPGo8ejymfbs+fH8xv6n/aD7nPrd+YT6nPxG/nL/oAD5ALkBLwQVBx8J8Qn+CEUHAwYBBeUDpgL7ANL/2/+xAG4BbAGrAAkA7f9ZAIYAyP8Q/gn8fvok+iL6VvqG+sH6Ovvz+8X8ev38/Un+bf51/mT+PP4R/ur99v05/rD+UP8CAKUAJgFQAYcBpAGlAYkBRgHoAH4AKgDw/9n/4f/+/yQATgB0AKYAtQCvAI4AWQAUAMz/jf95/2H/Xf9t/5X/0P8bAGcAiwCkAKEAiABbAB4A1P+I/zj/F/8T/yv/Vf+K/8b/AQBCAGQAbgBeADcAAQDF/5n/4P8AAEEAlQDzAFgBxAEzAsgC/QIBA90CnwJQAv4BrgFLAQUB4ADmABkBYwGPAXMBjAD6/27/Bv+y/jH+WP1E/Ff7Bvta+/D7UvxY/ED8c/zz/Gf9e/0D/Wj8VPyp/Az9T/0p/TT9VP4QAA0C6wOGBIoE5gQnBeYFHQc3B9MGkwbPBQQGiAd+CIQJagr8CTkKTAsBC2UKFQlcBiwFYAW3BAgEPgIY/0H+d/+FAL0B9wDF/bH7CPue+gr71PnZ9kn1j/Rg9Ib10PVP9SP2MfdN+PD5NPpc+f/4h/iq+P350voM+0P7GPux+7n9+//2AS8DMwP4AkMDxgM5BCsEbQPFArsCHwOcA88DtQPBAz0E9ARsBR4FIwTyAgQCfAEeAZwA2/8M/37+Vf6B/s7+BP8M/9/+mf5I/u/9kf0k/bz8cPxN/Fv8jPzR/Cf9lP0T/pf++/45/03/RP86/zX/Ov9G/13/hv/E/xIAaAC3APoAKQFBAT4BIQHsAKsAbQA5ABEA9v/o/+3/+/8NABIACwD2/8//nf9e/yH/6/7I/r3+0P78/jj/hP/W/ycAagCXALAAuADCAMYAvgC3AMEA+QBlAfQBgQL3AlUDoAPaA+4DzwN8AxADowJNAgQCugFwATgBOgF7AesBQQIwApEBkwCV/+r+h/4S/ir91vua+hv6hvpg+wL8Gfzt+xH8ofwU/d380Puf+lb6Cfvj+2D8CfyO+4P87P7WAaEEvwVMBSMFNQXbBawHYQi+BzQHJgYKBi4IFwpdC5UMJwwpDPgNdQ6KDaULhwciBRQGlgYZBrUDiv7r++b9ygCIA1YDjv6X+o75bvmU+gj6Bfbq8q3xNfHB8rrzEPO28zD1l/b2+AL6AflY+ND3uPdb+bH6zfqx+gv6H/qW/PD/6wLVBMME+gMjBBoFXgbJBpoF5QP8AiUD5ANfBDQE8gNEBDUFFQYbBhcFmQNmAssBdAHUAK3/Sv4x/bv8Bv2i/Rv+Pf4P/sz9nP2D/Wv9KP2w/Cj8xfun+8X7Cfxr/Oj8gP0o/sP+Of99/6n/xP/a/+X/4//b/97//f83AHkAtQDuACABSQFgAWIBUQEoAfAAugCKAF4APQAiAAsA8//X/7n/k/9r/zz/A//N/qn+mv6g/r3+5f4V/07/kv/T/wIAEAACAOz/6P/9/xwASACAANYAXAEBAqkCOgO4AxsEaQSJBFcE1AMxA7YCgwKXArcCqgJuAj0CVgLZApAD7wOGA0YCngA4/2v+Bf6E/Vr81vrK+eP55vrm+x38pPtp+wL85/wC/Yj7Dfl+98v3m/l8+7r7Yfru+Z37Lf/OA80G2Qb/BRYF2wS2BnwIhQhMCEQHIAbLB4QKWgxjDuUOIw7rDwwS2hFSEM0LRgaSBZQHYQh9BzgCP/tE+jz+5QI3BnEDGfwJ+LP31/i2+tL4dPJz7kHtz+2E8KbxpPB28ZLzvPXA+NT5Vvh+9zz3qPfZ+Vb7qfqJ+Zn4Pvkp/TkCkAWtBqEFYwRUBcMHkQmQCT0HWAT4AlkDWwTMBFkE3AM3BFQFSQYrBvoEhwOVAjUCtQFyAH7+iPxY+zz74/uV/Oz81/yb/Jn87vxo/av9ZP2t/N/7Vfs5+2b7rvv9+2L8/vzB/Y3+M/+x/xMAYwCtAMQAqwB4AEIALwBAAGcAiwCoAMYA7gAiAU0BbQFuAVcBMwEGAd8AswB5ADIA3/+O/1L/I//9/tT+sP6T/o3+o/7U/hT/RP9k/3j/iv+i/6r/nf9y/zv/Ff8W/0n/nP8RAI8AQgEjAgEDqAMCBD0EewS7BL4EWwSMA6sCMwJdAhEDywMmBA4E0QPrA4MESgWOBaoEugJyALL+1v1r/a78U/sM+sT5s/oN/JH84fvs+gT7PvxA/Vn8+fgz9crzU/WL+Ar7hvqq+Jr4O/uBACMGWQieBzQGoAQFBXYHiAhzCC0IoAbdBloKSQ2KD1kRhRD/EL8U3hYCFhcS7gloBFUG9QlaCyYIQP6N9rL4/v9IB4QJ4wH596j0Bfaa+YX7Cfa37abps+jH6oju+O497hHwT/JM9dT4MvnQ95P3gveg+BT7dvu6+RX4Sfeo+ZX/JQXWB48HnAVKBTUIBgy+DQIMnAejA7kCKgS4BaUFHgTYAhoDqQQMBiQGAwWsA9MCTQJZAXD/Af3u+vn5D/qb+vb6yfqR+rX6evuv/LH9/f11/YL8tvts+5H7y/vS+7j7x/s4/Cr9Tf5c/ycAugAvAYcBuAGsAXEBKAHmAKoAeQBFACAAKwBtANMAPgGMAbEBuAHIAbwBkQFAAcMANQCe/w//nP5U/jL+MP48/lb+jv7t/mb/y//4/+j/rv9n/yX/5P6E/jT+AP4J/lr+2f58/zsAPQFhAoEDTASEBFUEGAQRBDUEQATTA/oCMQIKAskCKgSgBXMGhQYzBgMGKQZZBuYFXAT9AY7/3/0C/WL8a/tY+uD5YfuB/XD+Iv2V+ib5PPp4/AX9z/nb83vvq+/b8wb5APsO+Sr3Zfgn/U0ECwn6CAwH2QTBA9cF8wfAB5oH8wavBnEKFQ+LEZQTdBOqErUWlxvBG+gXeA6lBEwEAwrTDZEMNgJR9b3zSvzfBksNdAfA+UDy//LK97f8EfkD7kvmweKq5KzqdO0V7JPscO6C8df2pPkP+dj4UfiH+Cj7S/ye+lz4YfaU98D9qwSACJ0ICAYvBREJ9Q6FEhgRNAs+BSsDpwTnBgYHegR6AYEACQJsBPQF0AW4BKID1wLZASAA1P2C+9b5+viY+Ez4/ffl90n4oPl3+yf9E/4I/lz9t/yi/Jn8e/wH/Fn75PoY+/v7O/2o/ur/BwHxAagCFAMpAwgDnQIDAjgBawDC/3T/i//x/4IADgGWARgChwLDArACTAKaAbYAx//t/jr+vP2K/aD98P1b/tT+Uv/T/0wAigBtAO7/Lf9l/sf9Vv0f/ST9Z/30/bn+rP/VACUCbwNuBL4EZAS6AzUD+ALZApYCEgLGAeUByAI2BL8F8AakB/MHNAjuBzYH4QX4A+kBMwAB/yn++vxt+0j6pPrV/K//8ABE/6z7BPlp+e37YP2u+i70Ke4A7f3wW/cU+xH60ff899r78AKFCEUJiwcTBUEDfwRWBiAGRAZaBnIGPQoyD54R+RIbEyATVxiCHtEeuxnADlUDrQIhCpwPnA7fAlbzOPAu+rgHgxAOC/P6u/DQ8O323/2M+1jv/+RY4Erh0udn7DPs/+xk7mHwYfUj+df5e/oO+kD5uPp7+9759vdD9i/3K/16BNEINwmdBlAFEQmHD+kTrxIJDIgEIwGAAqEFwgY0BS4BEP4X/ukAKAR/BWMEvAEd/0n9E/zv+nb5pPfs9a70ZPTa9Mn17/Yn+Hr5wPqM++T7qvs7+wn7MPtu+3r7RPsm+6b77fys/mkApgF6AhwDswNKBKYEkAQQBGQD1QKgAoICfgKBApsCxgILA0sDWwMfA6sCBAIzAV4AY/9o/oz90vxY/Bb8FPxI/I78yvzG/Lj8h/w7/M77TvvL+nL6Z/rA+lb7GvwV/Wb+MQAlAusDBgWCBbcF9wVdBp8GhQZaBkAGoQZ4B4sItwkoC/AMAw8cEP0Pkw6GDL0Kmwm3CGcHhgSNAL/87/pR/CAAwANQBNIA4PuI+e77sQDKAmT+1vLI6gTqdu9R9iX5dvaT8wn1jvueBFALIAzQCjoKcQlQCcUIHAVdAzMF7wdhDa0S1xIEE0sVtRjqIT0skSyTIz0UnwPqAOkLNRW9FAgGbO5p5MnwawaOGNgYLwSa73zpvu6q+l//FvN94VvVoNAx183hnef/6k/tQO2q8MH26vkL/BX9H/pE+Hb4VvdF9vj0evN59/sAjgphENQPpwpACPcLnRLcFpUTBwnX/Qn4CvkG/TUAPP9x+yf40Pdp+tH9DP8u/iz7UPf88/Hx+/B48L3vl+888OHxR/Sv9rv4i/rK/BT/CgHkAVQB7//Y/sT+AAAuAe8BLAJAArgCwQMmBXAGwAZvBr8F3gTrA/YC8QGhANr/XP8v/0H/eP/K/xwALgB9ALEArgCJADkA5/+Z/4n/g/+x//v/YQC7ABgBSwHDAagBUAGyANL/w/6c/Xn8e/uj+iP6Kfqe+kb72/sr/AH8Ufz+/Mn9IP6J/TL81/ri+ej66vwj//8AqQKSBBoHFwqkDKkOLBDdEGwQoA7eCygJLweFBhYHVwhlCWMJLAgBB+4GJQmXDA0OXQpYATv25O577n/yqPUc9Ibt/+fE6SryAP64BxAKSQfLBOUCgALOA0YDmwFxAv4CBAR4CLEMNBGcGYMhcChJMZ800S6gJNcWiQt1DYIUrRVjDuv7lujb58j3qAuqGSYVmwDx7/npruuS8lny9OWO2MrOk8nXzQfWZt3x5grw3vSV+Vj9sv2P/uz+6fy8/FD++v19/Lr5Xfa0+LoCfA+/GW8chRaODscKmguSDk0Ougc2/ajzYe6z7R3w5fLS9N31bfa09rf2fvYD9nL1o/R18xLy2fA58M7wKfKz9IH4av1YAhcG8QfWCOAIgwmkCloL2AoGCdQGJAWCBM4EawXQBeIFpgUrBT0EOgPlAWUAwf4U/Xr7Efrm+Cv44vcE+I34Wvlp+nD7efxL/Qv+qf5I/9n/eAAaAckBkAJoA3MEnAXeBvwH4QhVCU8JwgjZB5EGFQVsA6cBKQBx/uj8pPvq+rr68/qD+4P8oPzg+/75dvcr9f7z9vND9KzzM/IE8cfxePV5+9kBcgZiCckKjws2DMcMEQ3SDOkLdAq0CFIHMQfmCDgMcxBPFSIZrhuIGykXvQ7WBAn9x/qh+vP35+8y5FDae9qI5gv3XwRjCcQEev65/H39EwAoAlH/Tfu0+Tz3O/ch/jEIWBZQKbk330DPSIdI7z94NaUnIhwsHZ0fvhkcDBP0/97s4YD3VBAJIo4cuwPA7prjxt9U43XgWNKMxeC7I7UquE7AVsp628LutfzHB5wNwAsvCTkFPP9q/YQAfAM7BfcC1vuL9yH9zgrMGzEn2CXrGpAOfAPg/XP7hvcY8fDpDuQc4WThoeOU5zzt6PMV+gL+nv8v/kj7Xvhz9kj2APgk++3+WwGWAskDUwbKChcQBRQQFewS4Q6WCvkGKgTXAcr/jf2K/AP81fvP+/f7WPz9/Ef9of13/c382vvW+kj6SPr5+uj78PzS/Z3+Zf8jAO8AnwHpAfABogEUAXIAyf8w/5T+Mf4Q/ij+iP4F/3z/GAB8AHUBhAJpAwEEOwQaBLwDQAMKAw0DYwMKBLUEOgWLBQsGVQZsBhIGBAUxA68AcP2c+RH19PB07obuwPC98+n1OfaU9iv4u/tTADAExAWCBMsABP1H+vH5iPy1AUwImw47E8gWnBkdHMMdUB13GjYWkhEeC3sC+vVx6OHf2N+r6db4SQJPA6f+Rvg89wb9KwJ7AwMAgvaH7Cvnc+TT5yf10AYnG3ow9T2oRF1KtUlrQ6U9cDJGKMAmHSJGFfsDVuxA3afmCP06FLwifxm8AaLuUuDO2IzXWs8Xwwq8D7a3s264hL5ZyWTehPTdB3QYPx9/HhgaHhCnA7n8GPvP/uQGTwoYBioADP0iAY4NoBnpHWgZLw6hAGD1Dewy5IPexdtq3H/hzudO7XrxHfV3+d3+iwQZCc0L8QtRCbwEyf+5/En9VQEsByoMwQ7fDtgNAw0wDP0KyAh/BbwBGf7S+tL31PRE8+zyA/Qw9sD4+Ppr/EL9d/1k/Zb9Cf6h/ln/BQClABABigEbAsUCZwPPA9gDggMTA30CAAJ6Af8AXwCz//r+Xf7I/VL9zvwr/M/7svsI/I78P/3l/XH+6P6F/0AApQAkAVQBRQFAAa0B7gI/BYwIFwy4DskPKw99DYcLagkdB0QDuf5P+qL2mPPk8KDuLe6A8Af2vfywAWoCmP5x+LLy2O/A71Lxp/Nf9lz5tPwCAGkGGxCUHC0pkzH/MpQtYiNuF3oLzP428pTq8+lz8LT7aAFa/qv4hfSI9/MDwg3yDPwBju0B1yfKd8XKyMvZKfO+DqAsI0QxUHJa3GJDY7ZidlwJTWhBGzlSJ5oQafaQ2pTUDOr1BlMi4CxuGVT84ORZz7zCv7qkq9WfcJ2hnFWhXavctDzFIOGt/tIZ7jBBOwM6hzJ2IWEK7vgW8Orx1v4yCgwMEgiyATr/ygUGD1sTWBFjCJn7bu/o48XYFNBczJ3P+Nk26Bb2pgA7B4oKvQsGDBkM1ww4DuwOPw2pCKgCV/4F/g0CPQibDYIQmhCaDnoLWQciAor8hvcy9JzyTPJK8nDy0vIH9Bn22vi6+0v+RwBwAdgBgAH0AGsAhwAtAUYCNAPGA9wDpgMoA5wC5AEZAW0A5v+u/6L/x//u/xIANgBRAEMACgB9/+P+M/6K/Qb9oPyJ/Mf8WP0f/gL/kP+N/zL/pv55/sz+zf+OAbIDGQZLCPMJ2AozC4YL0wvGC3kKgwcpAzH+xPlE9sTzhPK48jj1vvmv/rABKgFp/Yf4DPUH9Mn0AfZP9u/1ZPXM9S/4pv3CBuoSPB9MKAMrMCe7H7IWwQ0XBa373POL8VH0T/rZ/9T+J/mn9R33gf9HC2IPVwge+gvnctYxz6vOmtWd5/79NBRqKtA4kz+8R0NNOU1ZTDlFNDhBMTYpaxh3Bb3uY9vB36r13Q2KIhAjvg3l91HlftWJzovGnLnps5uzILTOuorClslP2WnvRAVcG6srADGkLxgnZBXbAp71JvAj9jkClQlVCpYGZQFzATEHRAx6DeQJ7QFr+a/xPumU4FfZJNaf2UDj5e/D+2sESgnYCngKOQldCHoIiglNClQJTAYoAiz/Hf8tAqQGjgqeDMcMfwstCaIFAwHy+5T34vQh9Jf0gPVI9un20fcw+QX74Pyj/vv/zQAPAcEATAD+/zEA3gDEAbcChgPtA+UDaAOTApEBhQC0/yP/4/7y/iP/kf8OAJ4AFQFRAVMB8ABDADv///3Z/PL7ePuH+w78Cf0y/jX/6f8KAKz/Pv8F/zf/FgCPAX4DhwVcB8EIsAlqCpIL5AyWDZsMTAkeBET+J/lw9Rjz8fFn8tz0E/nA/WgAYQBp/WT5b/a+9a32m/dp98P1mPOR8g30dPl4AywRTB8AKp4tySmlIT0Yyw9pCBgAkvcD8xLzZfdD/Vn93fcS9Oz0Nv1rC/oS4w0SAPzqoNYnzNnJ984l4Cz3vQ3tJBI1ITwaRGJMlE5FTxpLvz36M9Mtah7jClb0lNsN15vrSgYNINQq1xmGAHzs3Nkmz2/JmbyXsgiyB7PktxDBN8dU0Tfl4PspErYn5jNLNWowdSEqC+n4oO6d7kz6PQcvDBILQQYlAsYEPApPDCAKzQMh+wP0W+0+5Y/c19WW1ALbt+c49rECvgosDuANiAvFCAoHHwc/CAsJ7wfaBHwBy/9hAakEVAj2Ch0MHAwMC3gIAARk/qn4X/Re8p/yDfTU9XX3ivif+c/6PPzD/Sr/MgCyAJ0AMwDo/+3/cABYAXsCqAOLBAEF3AQsBPYCmAEOAMf+5/1v/Wj9z/2U/pD/fwBmAfoBQAIhArIB3wC8/3f+Sv1O/MD7vPsh/AD9AP73/sL/LgAkANz/kP+D//r/0QDeAfwCBgT8BOAF6AYvCMYJJQuUC0sK+wZLAmf9lvkw9yf2+/Wr9nz4K/v1/XL/3P7U/JT6h/kQ+hb7QfvC+ej2//OU8gf0f/nyAvkOjRoSIjcjBh9rGNQRoQwWCAMCVfuJ9+P2VPmc/Hf7sfaK9AH3+/4PC4ARGQ3FAOPuf9241O7TqthR5u746gmSGgInBSzZMeE5JD08PtY7OTFnKBQkPBnqCVT4P+Pf2+XqkgEKGG8kEhrqBAf06uRR2wTXRs1hw9fBA8Mgx3PPGtX42lPoF/kRCsEbgSfAKnUoWR7hDE386/H774H4xAT4CxINGwqhBhsHBwpVCj8HtgE9+yz24fF87LXlmd8E3UvgHumY9LX/nge5C0YMLwrKBswDZgK2AhME4wRABOIC6gGUArAEcwdmCU8KcArcCYAItQVvAVn8HviW9RX1E/ax9zv5gvq6+4v8Mf2l/SL+i/7y/jf/Jv8K//P+Kv+m/5MAkgGgAnID5QPqA4IDsgKnAYwAhv/D/jz+/P0E/lv+3f6c/2cAKwG7ARYCMQLzAWoBgABt/1r+NP1W/Nn7y/s4/AL9GP5C/zAA3QA0AUoBSwFZAYQB1AEoAoAC5wKCAzoEOQVgBusHwAlcC74LHgpZBisBBvwR+HL1BfRV827zsfQe9wD6m/vH/Lj8SPyM/PD9cP+J/5X9r/nG9bDz2/QD+u4CYQ5zGeQhASVEIkAc9hV2ENILXQYw/qz2cfIG8U3y5PJt733sM+8R97sDrA4wDr4DoPTu4xTZ1Ncn24fkUPUIBngVnSQgLaMyTDx3QndDUUPUOqsuUimBINMQywBM7O7dneYY+28PCyDIHPIImvfO5zHaaNSfy5W/Q7xfvQfAnMg50OLVFOIC8kABExKdH18l6iabIZETWQPx9jbxuPa4A10O1xMRFLYQFQ91EEgQzgxiBt/9lvaf8cvsGOdM4S7dgN114+3soff8AGkHGwpJCeUFdgF6/uj9Yf91AckCIgNJA9kEkwdfCkMMFA0eDckM7AvHCSgGXwGG/Nf48va69qL3MvmV+sT7aPy4/LP8nvyp/LL8yvza/OD8PP3A/aj+gf9dAA0BqQE0ArAC2gKgAhQCSgGjACYA4P/C/7T/sP/O/+X/AQAGAAAA/P/8/xEAFAAgACIAIgAVAOz/lf8W/3f+CP7H/cj9/f1U/sH+Uf8TAPwA1wGCAuUCFAMoAzsDSQM+A/YCpwKNAtkCeANuBIUFVwbfBl0GcAQ5AU/9wfkt98L15vQ+9BH00PTK9nX52/tB/fb9wv5WAG0CuwMjA2kA/fww+rL5E/wiATAIGBD6FukaUBtkGA4Upg+KCzYH+gAs+iD0CfCC7hLva+507BDtFPE5+c4DrQnKBlH+wPIM6GLk3OXP6c/yDv9WCnQWRSGsJqMsFzT8NuY3bTaVLVMleyCgFlwKE/6x7t7oEfMQAQcPXRcLD8b/8POZ567eENr70PzIXMg7yeHMu9RY2oHgLezS98wCdQ4cFjAZERobFdIJYP+C+KD3HP+mCdQQYBTFFPESohLQEiwQIAuLBFP9x/fM86XvXuvP5ybmsOdY7O3ysPl4/10DkwQbA8n/MPzy+Sn6D/x7/nIA5wGJA9UFrQgFC1MMdgzWC9oKiQmLB8UEjQGQ/nD8e/uJ+0b8Q/1H/sL+vv49/nn9nvz0+3z7O/s4+3n7Avzk/OX9+/7v/8IAUgGhAZkBbgEOAaQASAD+/9X/0v/v/0YAogD5ACkBMgH+AKwAMQDG/0f/2/6m/qX+4P49/6H/+/8tAC4ABADB/1P/5P57/jX+Lf6B/in/AwAsAWACkAN9BCcFeQV6BToFsQTpA+UC3QEWAdQAKAHOAdACpAPtA2ADvAEL/9P7r/g39nb0MPNB8t3xefJ59Hv3qfpt/ar/9gHOBIYH+ggsCNAEvQC8/WH94f+KBH0KeBCkFd4YKhnKFkATLA/RCvIFxP429jvvMerJ5+Ln2OZX5QPoP+72914DPQiEBLr8lPJS6jXph+uB7334bAOpDRUariT0Kncy7jlIPPk8BTrPL3cnVyGbFYgJbP0075TsU/cbAyEPIxSBCaP7YvCo40HbK9WWysvDpcOzxOXJU9LG2PjgJu0N+AkC7QvNEX0ULxWDEOkGcv5B+Tj6dwN7DjsWnBoTG4MZSBkWGM4TfA1VBV79q/dl85bvROzT6T/piet87130d/na/ZwA6QCe/nf6t/bi9JX1JfhC+yb+2wDZA00HiwrODLQNZQ1tDDkLlwmcBxQFcAI5AOH+dP64/oj/TgD8ADoB3ADc/2/+/PzL++z6X/ol+jr6svqF+5j8wP26/qP/PQCrANoAtgBiAOv/lP9k/1z/df+g/+z/QwCgAPsAJwEkAegAlwBCAOb/kf9F/wz/+/4V/1b/rv/9/ygAWgCBAIsAcwAvANr/i/90/4b/y/80ANUAogGMAocDTQThBBwFDAWvBAsEGQPUAYkAUP+M/lL+kv4u/9f/VQBfAOb/rv7j/OT6Ivmz93T2aPWU9JD0svX+9+T6yP13AE0DDAbNCMQK8gocCdcFpwIcAVwBVAM+BoAJnwwaD2wQ5w9MDvALzgg2BYoA7fk58+zt7Olf6EboYOc46GjslfIW++kCUAQjAf37s/Wv8hP0Nvaq+WwAUAfwDqoY2B/2JOUrezAfMUExdiyeI3cePhhADlIGpvyD88/1j/2NBAoMoQpoAP/3l+/z5ZHgR9rG0dfOTs950PPVgdyh4Zzp+fIa+rcApQZkCT0L9gsvCEIC7f3v++7+Ngc/D88UTRjNGCUY5hfXFWURwgsRBQT/wfpy98H0z/K38efxafOs9Tz41/ra/OH9Rf33+q/30fSs83/06fbU+aL8XP88AjsF6QebCRQKrgnpCPkH4AaPBR0EwALKAVQBUQGyAUMC0wIjA/4CNwL/AI//MP4Q/TP8ovte+2n7yvth/BX9wv1b/tT+Nv90/5z/nf+Q/3v/cP91/47/v//5/z0AcACYAKoAnwCSAHkAZQBNADMADwDs/8X/oP+C/2r/S/87/zv/TP99/73/CwBOAH4AoACxAK0AoQCfAJgAwwAKAWQB3gF5AjQD5gOZBAEFGgXZBEcEbwNBAsYAHf+T/XH89fsf/J38NP23/en9tf0R/fH7k/o0+Qb4FfdG9s717/Um94P5qPzu/wgD9AUGCQgMIA56DqwMUQn1BcsDZAOEBGcGhgimCoUMnQ1qDfsLgQkgBlAC0P2O9+3wQuuN5o3kv+Si5L3leOma7of2RP9ZA7cCf/8V+mj2I/cT+cf7UwHxB+wOMhg/IfsmHC1AM9M07jQoM/0qJiM+HhkV2wt+BOT5DPWg+lEAVQYbC9cEafpC86XpHOE+3P/TfsxFy0nLWc2s04bZfN+J6FnxWPjX/gkE2wanCJMIcQQq/3z84fzJAWwK5BF4FpAZpxrHGvoaGRmXFB8PEwljA/f+Hft799D0QvMI8wP02PXe9/L5pftX/FP7tvhf9Zvyo/F38mf0qPb4+HL7U/5xAV4Enwb5B5EIsgh/CPgHAgfWBZ4ErgMkAwgDLwOVAygEaQRABKEDngJ2AVAAMv8w/kj9i/wW/OX7//tA/Jf89vxi/dH9RP6b/tf+9P4K/yz/Sv9x/6H/xv/0/ywAWQB/AI4AlwCdAJgAngCGAFsALwAVAPz//P/0/93/vf+X/3//d/94/3X/e/+I/6H/xv/t/xMAPgBnAJEAswDWAO0ACQE8AXMBuAECAlQCqwL1AjUDTwM0A+cCbQLGARQBUQCC/5z+tf3r/GP8QPxu/M78Ef0+/Sn9x/wS/CX7Mfp7+TH5Sfm8+XT6jvs9/Xf/+wFKBCMGkQfrCEwKVgtvCzMK/gd+Bb4DUwMZBH0FFAeGCHIJvwnnCM4G6gN7ANX8SPlc9f/wg+386vXp+Ooj7CXtq+9c82f48v50AwwEPwLD/qb7Kfvx/Gv/SgPkCL4OKhVQHGUhwiTkKBMrbyqEKT0lDB6VGVcUewyPBqz/yPjI+Y3+XgIcB08Guf5g+PrxVuq95azgrdlg1obVONUD2PXbZN8P5S/sc/JI+Hv91wD+AmUE7gJA/1b8k/uJ/d4CCwleDWoQfhKLE8sUfBUqFI0RKQ5ECqkGQAOV/x78V/mM9wj3avdz+OL5Zvt9/JL8Yvsg+eD2YfX+9Hn1SvYd9wn4XPk2+3b9t/+kASsDYARVBe8FHQbRBSwFbATLA2UDPQNPA3sDsgPSA70DaAPeAjsCnQH7AEcAkv/g/kH+yv10/Uv9OP0+/VT9ev2s/eT9Mf5v/qf+5f4a/0P/fP+3/+P/EwAwAE4AZgB+AJQAqgC8AMYAwwC3AJ8AjQCLAGwATwAXAOL/rP+B/2j/Vv9E/y7/GP8S/xf/I/87/1f/cv+U/6f/1P8LAEQAhgDIAAYBQwGGAcIBDQI8AnMCpgLOAvIC+ALoArACVgLUATIBeACs/+L+Qf6o/ST9m/wP/Ln7mvuy+/P7K/xL/Cj82ftY+8D6U/op+pP6gPvn/IX+TwBKApAEzQaXCLUJSgqdCv4KZQs5CyEKFwjFBRAEgQMdBFUFhgZ6B9oHSQeCBW0Ci/6a+pX2MvM28Abtpuq+6fvpsusp7t7vKvL09dn6igA3BW8GtATlAXv/2f4cAc0E2QjZDsEVqRshIkgnRykCLP0tYCysKvMmnx+/GhQWFw7uB2ABNfpz+rj+yQEQBkQFrv119/XwNenx5K7fidhW1YzTNNJv1NLWAtll3rPksepz8f723Ppt/iUAQv/A/CD6C/kW+/P/aAXTCRANNA8mEZMTXxWiFdwU2xI7EIQNQQpiBlECtP7k+0T6tPnw+b/62fu7/N780/vp+dv3XPa89aj1qPWJ9Vz1m/WF9hD44fnD+5P9Qv8EAYcCngMjBDcEBATIA5YDkgOxA+EDGwRKBE0EKQTlA6gDXwMJA6ECHwKBAdwARgCi/w//hv4U/rv9if1t/Wz9hP2k/cf98/0m/lv+pf7z/jv/iv/J//H/IABNAG8AlACxAMkA2wDzAAwBIwEtATEBDQHfAKcAXwAmAPT/wv+L/1v/Jf8G//r++f4O/yP/Ov9P/2P/dv+Q/6z/0v/2/xsARQB1AL0A/ABAAXUBqwHXAfwBFwIhAiICAwLNAYABGQGtADMAsf8w/6v+L/69/WX9Jf39/Nr8t/yN/Hr8dvyc/NX8Cf03/U/9Z/13/Zj9Bv6p/rz/HwGnAiUEgwXRBgUI4wg5CQsJfAj5B7UHhQf5BugFagTzAgIC0QEtArIC5QLSAh8CqgBH/ib76fcX9cLyQ/El8EfvZe9x8C3yfPSM9hf4WfqF/W8BPQVoB0EHsQUbBKsDwQSYBxQLAw8bFAEZ6ByhIEIioiLSIzMjJyEtH6Aa4hX1EuoNdwgdBF3+Avxw/mYA5wLZAyf/9fl89aXv4OuL6EHjF+BZ3nrc6dzI3SzeyOCI5Jroqu078sn1+fga+4T7mvoK+Qj47Pju+7j/JwPFBYwHJAlWC4QNFA/lD90PMg9TDs4MiAq3B6oEDAIgAPH+af5e/pn+1P7N/jL+/fyV+236xfl6+Sz5lvjh9y/35fYf97f3ifiL+bn6Afxd/Zn+gf8fAI0A5QA6AYIB1gEqAnICpgLJAswCywLQAtYC8AL+AvACxwKAAiYC1QF1AQcBngAxAMz/d/8k//P+vf6c/pr+m/6y/s7+7/4Z/0j/cv+c/7n/0f/m/wMAFAAuAEEAUgBmAH0AkwCjAJ4AnACMAHQAWwA0AAoA1v+y/4//bP9f/0j/Sv9a/3P/mf+x/8z/3//3/xAALQBHAGMAdwCYAL8A7AAQATcBVgFeAW0BYgFGAQoBuwBiAP7/if8U/6X+Mv7E/Wj9Cv3E/JX8f/yP/Lb85Pz6/BD9Hf1M/YX93v1P/sP+Vv/i/3oAJAHGAZECpgP9BF4GoAelCHUJBQpBChIKYAlOCEwHmgYrBs8FHwXsA3oCLAFbAP7/1/+z/z//Yf7Z/LL64fff9GPynfCy75vvxe+L8ELyZvQR92T5//rD/G3/zQKzBqYJywo9Cg8JyQjFCS0M5w+wEzEYOR3eINIjziVrJV4lVSXtIvEg+x3MGJoV5xH1C4YHWwKM/Sz+5v8dAdcC5v8o+gr2bPCM67/oCeQF4Dfex9vi2iDbYto+2+Xd9eB15S3q+u2y8Z30JvZw9p/12fRM9X73D/uU/lkBWQPLBMIGPwl2C4YN6A6FD9QPkA9qDoMM/wlRBxIFYwNHApUBIgHVAHIAqv+E/iX95fsi+7f6b/rq+fb40vfP9jb2DPY09qP2N/cZ+DX5UPpQ+x381vyF/Tn+/f67/28A/wB2Ac4BDgIvAlMCggLDAgQDNANQA1IDMwMMA9MClwJMAgICtwFjAQ0BsQBXAAEAq/9y/0b/MP8Z/wb/Bf8E/wn/DP8S/xr/IP8x/03/Z/97/4v/lP+e/6j/tP/C/87/3v/p/wQABwAMAP7/+//5/wMADAAgACgAOAA8AEYATwBaAGYAcACCAJAApgC6AMUAzwDaANoA1wDTAM0AuwCpAIoAYQAnAOT/lv9N/wT/wP6D/kj+E/7i/cH9nP2K/Xj9ef2O/bT94v0e/j/+Xf5z/pv+3f47/7n/UAD6AKwBWAIAA6oDVwQsBQIG2waGB+oHCgj0B6AHGgdGBlAFcQTbA5sDigNMA7ECygHNAPv/bP/0/m3+qf2h/DT7eflu90j1nPOf8l7y+fLl8wn1zPbK+NP61Pwi/h//nACOAg8Fdge5CNUIRgglCPwI0wrWDSIRbxRsGJ4bnx1QHycfIh4IHnscVRrLGC0V1hHUD7QLnQeDBAQAQP6q/xsASAFhAVr9nflT9rbxEO+V7JHoXua65I/iDOJ64YbgieFl49rlpulP7Ynw3vNK9p33/PeM91T3FPgA+nP8iP4LABUBAgKhA64FqweWCR4LOgwsDYcNEQ3VC/kJ6QcKBnYEKAMhAkoBmgD4/yz/O/48/a78ivyX/JX8OfyQ+7n69vlK+cn4a/g++Fb4uvhd+Rn6z/qC+yj84fye/Wn+KP/i/3oA/QBPAYkBngG1AccB6AEEAiICLQI0AiwCIwIPAvUB0wG0AYsBaAE3AQkBygCRAEsADQDK/5T/Xf87/x3/FP8L/xH/E/8l/zf/Wv98/53/tv/M/9//6P/s/+n/5f/c/9b/0f/a/9n/5v/x//T//v8FABgAHQAjACMALgAzACkAHgAYABMAGgAnADgAUgByAJYAvADfAP4ACgEYARwBGwEGAesAvgCBADwA+v+4/3T/Jv/o/rX+iv5f/kD+Hv4G/vH95P3Q/cH9t/2w/bX9w/3S/e79Bv4j/lL+nP4S/7r/iwBwAWUCVwM5BAQFsAVOBuQGeAftBysIGwi+BzUHkAbyBToFfATiA50DtwMCBCEEuwPHAoEBOwAZ/xL++/yp+yr6bviF9oj0n/JO8eLwXvG18nT0LPYl+FL6TPwk/ln/4f+1ACUCRgSwBmAI/QjoCOsICAoiDI4PtRNdF2MbGx8CIYEizCITIUogRh+THOMaRxj6E8wR3Q4GCuwGxQK1/i3/FABZAKsBNf9j+mj3GvMQ7zvtlun25XPk+OEV4KTf891A3YXeD+AN4yrnzurE7qHyM/XC9jf3F/eL9/P4S/t//f7+2/9WABkBsgKDBGAGVAggCvoLug2xDsEO+Q10DK8K6wgxB54FQAT/AsMBcQDt/mz9Svyu+6v78fsl/B/82Ptn+/L6dPri+Uz5z/iL+IX4tPj2+EL5n/kU+rP6g/t2/Hf9hP57/0wA9QBjAbUB7gETAjcCTAJEAjgCHwL/AesB0QG3AaUBkwGBAXUBYgFCAR4B7QDCAIwAWgAdAOf/rf+B/0z/Kf8G//T+7v7z/gb/F/8v/0D/W/96/5//tv/R/+L/7v/8/wgAFQAWABkAFQASAA0ADwAAAAIA+v/4//D/6//n/+L/5//v//7/BQAVACQANABMAGYAgwCYALAAvwDSAOAA6QDtANwAxwChAIMAYAA7ABIA6f+7/5P/bv9G/yb/Bv/z/t/+z/7B/rP+n/6E/mH+P/4j/g3++/32/Qf+K/5g/p7+8f5k//f/uwCTAXcCTwMaBLcEKwV0BY4FnQWoBbUFtQWIBTcFyAReBB8E9gPWA7kDtAPMA/4DFQTAA9sCewHe/1r+AP3Q+5X6Y/kj+N32t/W89A30BPTE9Ar2x/d8+dz6Qfx//Yn+ff/k/wYAgQCDAS4DFAWEBj0HjAdMCAQKaQzED0MTGxYyGXMbLhzXHB8cSxqtGToY4BW9FB0S/Q6+DdkKSAcdBVkB9v7t//z/VgDyAMb9cfo8+G70HPKr8FDtKOvc6XbnYeZ75ZzjR+Pm48TkQedA6iXtuvDu8zP2v/dr+N742vmC+2/98P7L/xoAKACYAHcBWQJ3A7sEGwbOB4EJxAp4C24L8AosCjoJLwgaBwcG6ASyAzMCdAC4/kT9UPzf+8T7u/u5+7T7vfvR+9P7vvuP+2D7Pvs5+0L7PPsp+w77/foK+z77m/sj/NL8lv1b/hb/tP9KANIATgG4AQsCQAJYAl8CTwIsAvUBuQFzATUB/wDMAKoAiwBvAFgAQQA5ADAAIAAdABoAFQAJAPL/1/+7/5//ff9i/0n/Mv8p/yT/KP81/0H/U/9o/4r/tv/l/xYAPgBZAGcAbgBqAFUARwAtABkA/P/c/8T/pv+R/4T/gf+M/6T/v//p/xgATQB4AJ8AtQDJANoA5wDtAOgA1wC9AJ4AfwBeADoAHAACAPL/5f/e/9v/3v/e/9T/zP+7/5z/ef9R/x3/4f6c/kr+/P2x/W/9Sv1D/Vf9kP3n/V3+7/6g/04ABQG9AXkCOAPnA34E8wQyBUIFLgUGBc4EpgSaBKkE3AQIBSIFJQUpBT0FaQWSBYcFWwUCBY0E4wPeAlEBSv8o/Sv7kvll+HH3ovbp9U710fSR9Jj0DfU39r73ffk0+0v8G/3m/Wv+4P4u/yL/a/+BAFcCoQS5Bj0ILglOCm0MKA+PEm0WSBnpG0Aeoh6tHjUe4xuWGp8Z9xaMFcMTJRCgDq0MpQhVBj0Dff/K/zQAx//dAND+ufqs+DL1+PHt8AbuIOsP6q3nzeUW5eLid+GF4XLh4uKH5Qnof+s87yDyj/QX9hL3avhX+rT82/5NAPsAAQEZAXkB4QFiAhAD2AMiBc8GXgiyCYAKwgrGCn8KLQrACUMJogi+B2oGowScAogAvP5g/Vn8kvvi+mj6H/oV+ir6RvpZ+nf6sfoL+3b70/sJ/BD8+PvT+677k/up+7/7APxU/L/8Nf27/Uf+3v5//ycAvABQAc8BOwKFArECtQKiAnYCNgLxAaABUAEKAcEAgABCAAsA2/+v/5//iv+L/5H/mP+g/6j/pf+r/6D/oP+c/6H/pf+o/6n/oP+g/5L/if+D/4P/hP+L/5f/k/+a/6H/pf+x/7L/yf/a//P/AAAAAAAAAAAAAAAAAAAAAAAAAAAAAAAAAAAAAAAAAAAAAAAAAAAAAAAAAAAAAAAAAAAAAAAAAAAAAAAAAAAAAAAAAAAAAAAAAAAAAAAAAAAAAAAAAAAAAAAAAAAAAAAAAAAAAAAAAAAAAAAAAAAAAAAAAAAAAAAAAAAAAAAAAAAAAAAAAAAAAAAAAAAAAAAAAAAAAAAAAAAAAAAAAAAAAAAAAAAAAAAAAAAAAAAAAAAAAAAAAAAAAAAAAAAAAAAAAAAAAAAAAAAAAAAAAAAAAAAAAAAAAAAAAAAAAAAAAAAAAAAAAAAAAAAAAAAAAAAAAAAAAAAAAAAAAAAAAAAAAAAAAAAAAAAAAAAAAAAAAAAAAAAAAAAAAAAAAAAAAAAAAAAAAAAAAAAAAAAAAAAAAAAAAAAAAAAAAAAAAAAAAAAAAAAAAAAAAAAAAAAAAAAAAAAAAAAAAAAAAAAAAAAAAAAAAAAAAAAAAAAAAAAAAAAAAAAAAAAAAAAAAAAAAAAAAAAAAAAAAAAAAAAAAAAAAAAAAAAAAAAAAAAAAAAAAAAAAAAAAAAAAAAAAAAAAAAAAAAAAAAAAAAAAAAAAAAAAAAAAAAAAAAAAAAAAAAAAAAAAAAAAAAAAAAAAAAAAAAAAAAAAAAAAAAAAAAAAAAAAAAAAAAAAAAAAAAAAAAAAAAAAAAAAAAAAAAAAAAAAAAAAAAAAAAAAAAAAAAAAAAAAAAAAAAAAAAAAAAAAAAAAAAAAAAAAAAAAAAAAAAAAAAAAAAAAAAAAAAAAAAAAAAAAAAAAAAAAAAAAAAAAAAAAAAAAAAAAAAAAAAAAAAAAAAAAAAAAAAAAAAAAAAAAAAAAAAAAAAAAAAAAAAAAAAAAAAAAAAAAAAAAAAAAAAAAAAAAAAAAAAAAAAAAAAAAAAAAAAAAAAAAAAAAAAAAAAAAAAAAAAAAAAAAAAAAAAAAAAAAAAAAAAAAAAAAAAAAAAAAAAAAAAAAAAAAAAAAAAAAAAAAAAAAAAAAAAAAAAAAAAAAAAAAAAAAAAAAAAAAAAAAAAAAAAAAAAAAAAAAAAAAAAAAAAAAAAAAAAAAAAAAAAAAAAAAAAAAAAAAAAAAAAAAAAAAAAAAAAAAAAAAAAAAAAAAAAAAAAAAAAAAAAAAAAAAAAAAAAAAAAAAAAAAAAAAAAAAAAAAAAAAAAAAAAAAAAAAAAAAAAAAAAAAAAAAAAAAAAAAAAAAAAAAAAAAAAAAAAAAAAAAAAAAAAAAAAAAAAAAAAAAAAAAAAAAAAAAAAAAAAAAAAAAAAAAAAAAAAAAAAAAAAAAAAAAAAAAAAAAAAAAAAAAAAAAAAAAAAAAAAAAAAAAAAAAAAAAAAAAAAAAAAAAAAAAAAAAAAAAAAAAAAAAAAAAAAAAAAAAAAAAAAAAAAAAAAAAAAAAAAAAAAAAAAAAAAAAAAAAAAAAAAAAAAAAAAAAAAAAAAAAAAAAAAAAAAAAAAAAAAAAAAAAAAAAAAAAAAAAAAAAAAAAAAAAAAAAAAAAAAAAAAAAAAAAAAAAAAAAAAAAAAAAAAAAAAAAAAAAAAAAAAAAAAAAAAAAAAAAAAAAAAAAAAAAAAAAAAAAAAAAAAAAAAAAAAAAAAAAAAAAAAAAAAAAAAAAAAAAAAAAAAAAAAAAAAAAAAAAAAAAAAAAAAAAAAAAAAAAAAAAAAAAAAAAAAAAAAAAAAAAAAAAAAAAAAAAAAAAAAAAAAAAAAAAAAAAAAAAAAAAAAAAAAAAAAAAAAAAAAAAAAAAAAAAAAAAAAAAAAAAAAAAAAAAAAAAAAAAAAAAAAAAAAAAAAAAAAAAAAAAAAAAAAAAAAAAAAAAAAAAAAAAAAAAAAAAAAAAAAAAAAAAAAAAAAAAAAAAAAAAAAAAAAAAAAAAAAAAAAAAAAAAAAAAAAAAAAAAAAAAAAAAAAAAAAAAAAAAAAAAAAAAAAAAAAAAAAAAAAAAAAAAAAAAAAAAAAAAAAAAAAAAAAAAAAAAAAAAAAAAAAAAAAAAAAAAAAAAAAAAAAAAAAAAAAAAAAAAAAAAAAAAAAAAAAAAAAAAAAAAAAAAAAAAAAAAAAAAAAAAAAAAAAAAAAAAAAAAAAAAAAAAAAAAAAAAAAAAAAAAAAAAAAAAAAAAAAAAAAAAAAAAAAAAAAAAAAAAAAAAAAAAAAAAAAAAAAAAAAAAAAAAAAAAAAAAAAAAAAAAAAAAAAAAAAAAAAAAAAAAAAAAAAAAAAAAAAAAAAAAAAAAAAAAAAAAAAAAAAAAAAAAAAAAAAAAAAAAAAAAAAAAAAAAAAAAAAAAAAAAAAAAAAAAAAAAAAAAAAAAAAAAAAAAAAAAAAAAAAAAAAAAAAAAAAAAAAAAAAAAAAAAAAAAAAAAAAAAAAAAAAAAAAAAAAAAAAAAAAAAAAAAAAAAAAAAAAAAAAAAAAAAAAAAAAAAAAAAAAAAAAAAAAAAAAAAAAAAAAAAAAAAAAAAAAAAAAAAAAAAAAAAAAAAAAAAAAAAAAAAAAAAAAAAAAAAAAAAAAAAAAAAAAAAAAAAAAAAAAAAAAAAAAAAAAAAAAAAAAAAAAAAAAAAAAAAAAAAAAAAAAAAAAAAAAAAAAAAAAAAAAAAAAAAAAAAAAAAAAAAAAAAAAAAAAAAAAAAAAAAAAAAAAAAAAAAAAAAAAAAAAAAAAAAAAAAAAAAAAAAAAAAAAAAAAAAAAAAAAAAAAAAAAAAAAAAAAAAAAAAAAAAAAAAAAAAAAAAAAAAAAAAAAAAAAAAAAAAAAAAAAAAAAAAAAAAAAAAAAAAAAAAAAAAAAAAAAAAAAAAAAAAAAAAAAAAAAAAAAAAAAAAAAAAAAAAAAAAAAAAAAAAAAAAAAAAAAAAAAAAAAAAAAAAAAAAAAAAAAAAAAAAAAAAAAAAAAAAAAAAAAAAAAAAAAAAAAAAAAAAAAAAAAAAAAAAAAAAAAAAAAAAAAAAAAAAAAAAAAAAAAAAAAAAAAAAAAAAAAAAAAAAAAAAAAAAAAAAAAAAAAAAAAAAAAAAAAAAAAAAAAAAAAAAAAAAAAAAAAAAAAAAAAAAAAAAAAAAAAAAAAAAAAAAAAAAAAAAAAAAAAAAAAAAAAAAAAAAAAAAAAAAAAAAAAAAAAAAAAAAAAAAAAAAAAAAAAAAAAAAAAAAAAAAAAAAAAAAAAAAAAAAAAAAAAAAAAAAAAAAAAAAAAAAAAAAAAAAAAAAAAAAAAAAAAAAAAAAAAAAAAAAAAAAAAAAAAAAAAAAAAAAAAAAAAAAAAAAAAAAAAAAAAAAAAAAAAAAAAAAAAAAAAAAAAAAAAAAAAAAAAAAAAAAAAAAAAAAAAAAAAAAAAAAAAAAAAAAAAAAAAAAAAAAAAAAAAAAAAAAAAAAAAAAAAAAAAAAAAAAAAAAAAAAAAAAAAAAAAAAAAAAAAAAAAAAAAAAAAAAAAAAAAAAAAAAAAAAAAAAAAAAAAAAAAAAAAAAAAAAAAAAAAAAAAAAAAAAAAAAAAAAAAAAAAAAAAAAAAAAAAAAAAAAAAAAAAAAAAAAAAAAAAAAAAAAAAAAAAAAAAAAAAAAAAAAAAAAAAAAAAAAAAAAAAAAAAAAAAAAAAAAAAAAAAAAAAAAAAAAAAAAAAAAAAAAAAAAAAAAAAAAAAAAAAAAAAAAAAAAAAAAAAAAAAAAAAAAAAAAAAAAAAAAAAAAAAAAAAAAAAAAAAAAAAAAAAAAAAAAAAAAAAAAAAAAAAAAAAAAAAAAAAAAAAAAAAAAAAAAAAAAAAAAAAAAAAAAAAAAAAAAAAAAAAAAAAAAAAAAAAAAAAAAAAAAAAAAAAAAAAAAAAAAAAAAAAAAAAAAAAAAAAAAAAAAAAAAAAAAAAAAAAAAAAAAAAAAAAAAAAAAAAAAAAAAAAAAAAAAAAAAAAAAAAAAAAAAAAAAAAAAAAAAAAAAAAAAAAAAAAAAAAAAAAAAAAAAAAAAAAAAAAAAAAAAAAAAAAAAAAAAAAAAAAAAAAAAAAAAAAAAAAAAAAAAAAAAAAAAAAAAAAAAAAAAAAAAAAAAAAAAAAAAAAAAAAAAAAAAAAAAAAAAAAAAAAAAAAAAAAAAAAAAAAAAAAAAAAAAAAAAAAAAAAAAAAAAAAAAAAAAAAAAAAAAAAAAAAAAAAAAAAAAAAAAAAAAAAAAAAAAAAAAAAAAAAAAAAAAAAAAAAAAAAAAAAAAAAAAAAAAAAAAAAAAAAAAAAAAAAAAAAAAAAAAAAAAAAAAAAAAAAAAAAAAAAAAAAAAAAAAAAAAAAAAAAAAAAAAAAAAAAAAAAAAAAAAAAAAAAAAAAAAAAAAAAAAAAAAAAAAAAAAAAAAAAAAAAAAAAAAAAAAAAAAAAAAAAAAAAAAAAAAAAAAAAAAAAAAAAAAAAAAAAAAAAAAAAAAAAAAAAAAAAAAAAAAAAAAAAAAAAAAAAAAAAAAAAAAAAAAAAAAAAAAAAAAAAAAAAAAAAAAAAAAAAAAAAAAAAAAAAAAAAAAAAAAAAAAAAAAAAAAAAAAAAAAAAAAAAAAAAAAAAAAAAAAAAAAAAAAAAAAAAAAAAAAAAAAAAAAAAAAAAAAAAAAAAAAAAAAAAAAAAAAAAAAAAAAAAAAAAAAAAAAAAAAAAAAAAAAAAAAAAAAAAAAAAAAAAAAAAAAAAAAAAAAAAAAAAAAAAAAAAAAAAAAAAAAAAAAAAAAAAAAAAAAAAAAAAAAAAAAAAAAAAAAAAAAAAAAAAAAAAAAAAAAAAAAAAAAAAAAAAAAAAAAAAAAAAAAAAAAAAAAAAAAAAAAAAAAAAAAAAAAAAAAAAAAAAAAAAAAAAAAAAAAAAAAAAAAAAAAAAAAAAAAAAAAAAAAAAAAAAAAAAAAAAAAAAAAAAAAAAAAAAAAAAAAAAAAAAAAAAAAAAAAAAAAAAAAAAAAAAAAAAAAAAAAAAAAAAAAAAAAAAAAAAAAAAAAAAAAAAAAAAAAAAAAAAAAAAAAAAAAAAAAAAAAAAAAAAAAAAAAAAAAAAAAAAAAAAAAAAAAAAAAAAAAAAAAAAAAAAAAAAAAAAAAAAAAAAAAAAAAAAAAAAAAAAAAAAAAAAAAAAAAAAAAAAAAAAAAAAAAAAAAAAAAAAAAAAAAAAAAAAAAAAAAAAAAAAAAAAAAAAAAAAAAAAAAAAAAAAAAAAAAAAAAAAAAAAAAAAAAAAAAAAAAAAAAAAAAAAAAAAAAAAAAAAAAAAAAAAAAAAAAAAAAAAAAAAAAAAAAAAAAAAAAAAAAAAAAAAAAAAAAAAAAAAAAAAAAAAAAAAAAAAAAAAAAAAAAAAAAAAAAAAAAAAAAAAAAAAAAAAAAAAAAAAAAAAAAAAAAAAAAAAAAAAAAAAAAAAAAAAAAAAAAAAAAAAAAAAAAAAAAAAAAAAAAAAAAAAAAAAAAAAAAAAAAAAAAAAAAAAAAAAAAAAAAAAAAAAAAAAAAAAAAAAAAAAAAAAAAAAAAAAAAAAAAAAAAAAAAAAAAAAAAAAAAAAAAAAAAAAAAAAAAAAAAAAAAAAAAAAAAAAAAAAAAAAAAAAAAAAAAAAAAAAAAAAAAAAAAAAAAAAAAAAAAAAAAAAAAAAAAAAAAAAAAAAAAAAAAAAAAAAAAAAAAAAAAAAAAAAAAAAAAAAAAAAAAAAAAAAAAAAAAAAAAAAAAAAAAAAAAAAAAAAAAAAAAAAAAAAAAAAAAAAAAAAAAAAAAAAAAAAAAAAAAAAAAAAAAAAAAAAAAAAAAAAAAAAAAAAAAAAAAAAAAAAAAAAAAAAAAAAAAAAAAAAAAAAAAAAAAAAAAAAAAAAAAAAAAAAAAAAAAAAAAAAAAAAAAAAAAAAAAAAAAAAAAAAAAAAAAAAAAAAAAAAAAAAAAAAAAAAAAAAAAAAAAAAAAAAAAAAAAAAAAAAAAAAAAAAAAAAAAAAAAAAAAAAAAAAAAAAAAAAAAAAAAAAAAAAAAAAAAAAAAAAAAAAAAAAAAAAAAAAAAAAAAAAAAAAAAAAAAAAAAAAAAAAAAAAAAAAAAAAAAAAAAAAAAAAAAAAAAAAAAAAAAAAAAAAAAAAAAAAAAAAAAAAAAAAAAAAAAAAAAAAAAAAAAAAAAAAAAAAAAAAAAAAAAAAAAAAAAAAAAAAAAAAAAAAAAAAAAAAAAAAAAAAAAAAAAAAAAAAAAAAAAAAAAAAAAAAAAAAAAAAAAAAAAAAAAAAAAAAAAAAAAAAAAAAAAAAAAAAAAAAAAAAAAAAAAAAAAAAAAAAAAAAAAAAAAAAAAAAAAAAAAAAAAAAAAAAAAAAAAAAAAAAAAAAAAAAAAAAAAAAAAAAAAAAAAAAAAAAAAAAAAAAAAAAAAAAAAAAAAAAAAAAAAAAAAAAAAAAAAAAAAAAAAAAAAAAAAAAAAAAAAAAAAAAAAAAAAAAAAAAAAAAAAAAAAAAAAAAAAAAAAAAAAAAAAAAAAAAAAAAAAAAAAAAAAAAAAAAAAAAAAAAAAAAAAAAAAAAAAAAAAAAAAAAAAAAAAAAAAAAAAAAAAAAAAAAAAAAAAAAAAAAAAAAAAAAAAAAAAAAAAAAAAAAAAAAAAAAAAAAAAAAAAAAAAAAAAAAAAAAAAAAAAAAAAAAAAAAAAAAAAAAAAAAAAAAAAAAAAAAAAAAAAAAAAAAAAAAAAAAAAAAAAAAAAAAAAAAAAAAAAAAAAAAAAAAAAAAAAAAAAAAAAAAAAAAAAAAAAAAAAAAAAAAAAAAAAAAAAAAAAAAAAAAAAAAAAAAAAAAAAAAAAAAAAAAAAAAAAAAAAAAAAAAAAAAAAAAAAAAAAAAAAAAAAAAAAAAAAAAAAAAAAAAAAAAAAAAAAAAAAAAAAAAAAAAAAAAAAAAAAAAAAAAAAAAAAAAAAAAAAAAAAAAAAAAAAAAAAAAAAAAAAAAAAAAAAAAAAAAAAAAAAAAAAAAAAAAAAAAAAAAAAAAAAAAAAAAAAAAAAAAAAAAAAAAAAAAAAAAAAAAAAAAAAAAAAAAAAAAAAAAAAAAAAAAAAAAAAAAAAAAAAAAAAAAAAAAAAAAAAAAAAAAAAAAAAAAAAAAAAAAAAAAAAAAAAAAAAAAAAAAAAAAAAAAAAAAAAAAAAAAAAAAAAAAAAAAAAAAAAAAAAAAAAAAAAAAAAAAAAAAAAAAAAAAAAAAAAAAAAAAAAAAAAAAAAAAAAAAAAAAAAAAAAAAAAAAAAAAAAAAAAAAAAAAAAAAAAAAAAAAAAAAAAAAAAAAAAAAAAAAAAAAAAAAAAAAAAAAAAAAAAAAAAAAAAAAAAAAAAAAAAAAAAAAAAAAAAAAAAAAAAAAAAAAAAAAAAAAAAAAAAAAAAAAAAAAAAAAAAAAAAAAAAAAAAAAAAAAAAAAAAAAAAAAAAAAAAAAAAAAAAAAAAAAAAAAAAAAAAAAAAAAAAAAAAAAAAAAAAAAAAAAAAAAAAAAAAAAAAAAAAAAAAAAAAAAAAAAAAAAAAAAAAAAAAAAAAAAAAAAAAAAAAAAAAAAAAAAAAAAAAAAAAAAAAAAAAAAAAAAAAAAAAAAAAAAAAAAAAAAAAAAAAAAAAAAAAAAAAAAAAAAAAAAAAAAAAAAAAAAAAAAAAAAAAAAAAAAAAAAAAAAAAAAAAAAAAAAAAAAAAAAAAAAAAAAAAAAAAAAAAAAAAAAAAAAAAAAAAAAAAAAAAAAAAAAAAAAAAAAAAAAAAAAAAAAAAAAAAAAAAAAAAAAAAAAAAAAAAAAAAAAAAAAAAAAAAAAAAAAAAAAAAAAAAAAAAAAAAAAAAAAAAAAAAAAAAAAAAAAAAAAAAAAAAAAAAAAAAAAAAAAAAAAAAAAAAAAAAAAAAAAAAAAAAAAAAAAAAAAAAAAAAAAAAAAAAAAAAAAAAAAAAAAAAAAAAAAAAAAAAAAAAAAAAAAAAAAAAAAAAAAAAAAAAAAAAAAAAAAAAAAAAAAAAAAAAAAAAAAAAAAAAAAAAAAAAAAAAAAAAAAAAAAAAAAAAAAAAAAAAAAAAAAAAAAAAAAAAAAAAAAAAAAAAAAAAAAAAAAAAAAAAAAAAAAAAAAAAAAAAAAAAAAAAAAAAAAAAAAAAAAAAAAAAAAAAAAAAAAAAAAAAAAAAAAAAAAAAAAAAAAAAAAAAAAAAAAAAAAAAAAAAAAAAAAAAAAAAAAAAAAAAAAAAAAAAAAAAAAAAAAAAAAAAAAAAAAAAAAAAAAAAAAAAAAAAAAAAAAAAAAAAAAAAAAAAAAAAAAAAAAAAAAAAAAAAAAAAAAAAAAAAAAAAAAAAAAAAAAAAAAAAAAAAAAAAAAAAAAAAAAAAAAAAAAAAAAAAAAAAAAAAAAAAAAAAAAAAAAAAAAAAAAAAAAAAAAAAAAAAAAAAAAAAAAAAAAAAAAAAAAAAAAAAAAAAAAAAAAAAAAAAAAAAAAAAAAAAAAAAAAAAAAAAAAAAAAAAAAAAAAAAAAAAAAAAAAAAAAAAAAAAAAAAAAAAAAAAAAAAAAAAAAAAAAAAAAAAAAAAAAAAAAAAAAAAAAAAAAAAAAAAAAAAAAAAAAAAAAAAAAAAAAAAAAAAAAAAAAAAAAAAAAAAAAAAAAAAAAAAAAAAAAAAAAAAAAAAAAAAAAAAAAAAAAAAAAAAAAAAAAAAAAAAAAAAAAAAAAAAAAAAAAAAAAAAAAAAAAAAAAAAAAAAAAAAAAAAAAAAAAAAAAAAAAAAAAAAAAAAAAAAAAAAAAAAAAAAAAAAAAAAAAAAAAAAAAAAAAAAAAAAAAAAAAAAAAAAAAAAAAAAAAAAAAAAAAAAAAAAAAAAAAAAAAAAAAAAAAAAAAAAAAAAAAAAAAAAAAAAAAAAAAAAAAAAAAAAAAAAAAAAAAAAAAAAAAAAAAAAAAAAAAAAAAAAAAAAAAAAAAAAAAAAAAAAAAAAAAAAAAAAAAAAAAAAAAAAAAAAAAAAAAAAAAAAAAAAAAAAAAAAAAAAAAAAAAAAAAAAAAAAAAAAAAAAAAAAAAAAAAAAAAAAAAAAAAAAAAAAAAAAAAAAAAAAAAAAAAAAAAAAAAAAAAAAAAAAAAAAAAAAAAAAAAAAAAAAAAAAAAAAAAAAAAAAAAAAAAAAAAAAAAAAAAAAAAAAAAAAAAAAAAAAAAAAAAAAAAAAAAAAAAAAAAAAAAAAAAAAAAAAAAAAAAAAAAAAAAAAAAAAAAAAAAAAAAAAAAAAAAAAAAAAAAAAAAAAAAAAAAAAAAAAAAAAAAAAAAAAAAAAAAAAAAAAAAAAAAAAAAAAAAAAAAAAAAAAAAAAAAAAAAAAAAAAAAAAAAAAAAAAAAAAAAAAAAAAAAAAAAAAAAAAAAAAAAAAAAAAAAAAAAAAAAAAAAAAAAAAAAAAAAAAAAAAAAAAAAAAAAAAAAAAAAAAAAAAAAAAAAAAAAAAAAAAAAAAAAAAAAAAAAAAAAAAAAAAAAAAAAAAAAAAAAAAAAAAAAAAAAAAAAAAAAAAAAAAAAAAAAAAAAAAAAAAAAAAAAAAAAAAAAAAAAAAAAAAAAAAAAAAAAAAAAAAAAAAAAAAAAAAAAAAAAAAAAAAAAAAAAAAAAAAAAAAAAAAAAAAAAAAAAAAAAAAAAAAAAAAAAAAAAAAAAAAAAAAAAAAAAAAAAAAAAAAAAAAAAAAAAAAAAAAAAAAAAAAAAAAAAAAAAAAAAAAAAAAAAAAAAAAAAAAAAAAAAAAAAAAAAAAAAAAAAAAAAAAAAAAAAAAAAAAAAAAAAAAAAAAAAAAAAAAAAAAAAAAAAAAAAAAAAAAAAAAAAAAAAAAAAAAAAAAAAAAAAAAAAAAAAAAAAAAAAAAAAAAAAAAAAAAAAAAAAAAAAAAAAAAAAAAAAAAAAAAAAAAAAAAAAAAAAAAAAAAAAAAAAAAAAAAAAAAAAAAAAAAAAAAAAAAAAAAAAAAAAAAAAAAAAAAAAAAAAAAAAAAAAAAAAAAAAAAAAAAAAAAAAAAAAAAAAAAAAAAAAAAAAAAAAAAAAAAAAAAAAAAAAAAAAAAAAAAAAAAAAAAAAAAAAAAAAAAAAAAAAAAAAAAAAAAAAAAAAAAAAAAAAAAAAAAAAAAAAAAAAAAAAAAAAAAAAAAAAAAAAAAAAAAAAAAAAAAAAAAAAAAAAAAAAAAAAAAAAAAAAAAAAAAAAAAAAAAAAAAAAAAAAAAAAAAAAAAAAAAAAAAAAAAAAAAAAAAAAAAAAAAAAAAAAAAAAAAAAAAAAAAAAAAAAAAAAAAAAAAAAAAAAAAAAAAAAAAAAAAAAAAAAAAAAAAAAAAAAAAAAAAAAAAAAAAAAAAAAAAAAAAAAAAAAAAAAAAAAAAAAAAAAAAAAAAAAAAAAAAAAAAAAAAAAAAAAAAAAAAAAAAAAAAAAAAAAAAAAAAAAAAAAAAAAAAAAAAAAAAAAAAAAAAAAAAAAAAAAAAAAAAAAAAAAAAAAAAAAAAAAAAAAAAAAAAAAAAAAAAAAAAAAAAAAAAAAAAAAAAAAAAAAAAAAAAAAAAAAAAAAAAAAAAAAAAAAAAAAAAAAAAAAAAAAAAAAAAAAAAAAAAAAAAAAAAAAAAAAAAAAAAAAAAAAAAAAAAAAAAAAAAAAAAAAAAAAAAAAAAAAAAAAAAAAAAAAAAAAAAAAAAAAAAAAAAAAAAAAAAAAAAAAAAAAAAAAAAAAAAAAAAAAAAAAAAAAAAAAAAAAAAAAAAAAAAAAAAAAAAAAAAAAAAAAAAAAAAAAAAAAAAAAAAAAAAAAAAAAAAAAAAAAAAAAAAAAAAAAAAAAAAAAAAAAAAAAAAAAAAAAAAAAAAAAAAAAAAAAAAAAAAAAAAAAAAAAAAAAAAAAAAAAAAAAAAAAAAAAAAAAAAAAAAAAAAAAAAAAAAAAAAAAAAAAAAAAAAAAAAAAAAAAAAAAAAAAAAAAAAAAAAAAAAAAAAAAAAAAAAAAAAAAAAAAAAAAAAAAAAAAAAAAAAAAAAAAAAAAAAAAAAAAAAAAAAAAAAAAAAAAAAAAAAAAAAAAAAAAAAAAAAAAAAAAAAAAAAAAAAAAAAAAAAAAAAAAAAAAAAAAAAAAAAAAAAAAAAAAAAAAAAAAAAAAAAAAAAAAAAAAAAAAAAAAAAAAAAAAAAAAAAAAAAAAAAAAAAAAAAAAAAAAAAAAAAAAAAAAAAAAAAAAAAAAAAAAAAAAAAAAAAAAAAAAAAAAAAAAAAAAAAAAAAAAAAAAAAAAAAAAAAAAAAAAAAAAAAAAAAAAAAAAAAAAAAAAAAAAAAAAAAAAAAAAAAAAAAAAAAAAAAAAAAAAAAAAAAAAAAAAAAAAAAAAAAAAAAAAAAAAAAAAAAAAAAAAAAAAAAAAAAAAAAAAAAAAAAAAAAAAAAAAAAAAAAAAAAAAAAAAAAAAAAAAAAAAAAAAAAAAAAAAAAAAAAAAAAAAAAAAAAAAAAAAAAAAAAAAAAAAAAAAAAAAAAAAAAAAAAAAAAAAAAAAAAAAAAAAAAAAAAAAAAAAAAAAAAAAAAAAAAAAAAAAAAAAAAAAAAAAAAAAAAAAAAAAAAAAAAAAAAAAAAAAAAAAAAAAAAAAAAAAAAAAAAAAAAAAAAAAAAAAAAAAAAAAAAAAAAAAAAAAAAAAAAAAAAAAAAAAAAAAAAAAAAAAAAAAAAAAAAAAAAAAAAAAAAAAAAAAAAAAAAAAAAAAAAAAAAAAAAAAAAAAAAAAAAAAAAAAAAAAAAAAAAAAAAAAAAAAAAAAAAAAAAAAAAAAAAAAAAAAAAAAAAAAAAAAAAAAAAAAAAAAAAAAAAAAAAAAAAAAAAAAAAAAAAAAAAAAAAAAAAAAAAAAAAAAAAAAAAAAAAAAAAAAAAAAAAAAAAAAAAAAAAAAAAAAAAAAAAAAAAAAAAAAAAAAAAAAAAAAAAAAAAAAAAAAAAAAAAAAAAAAAAAAAAAAAAAAAAAAAAAAAAAAAAAAAAAAAAAAAAAAAAAAAAAAAAAAAAAAAAAAAAAAAAAAAAAAAAAAAAAAAAAAAAAAAAAAAAAAAAAAAAAAAAAAAAAAAAAAAAAAAAAAAAAAAAAAAAAAAAAAAAAAAAAAAAAAAAAAAAAAAAAAAAAAAAAAAAAAAAAAAAAAAAAAAAAAAAAAAAAAAAAAAAAAAAAAAAAAAAAAAAAAAAAAAAAAAAAAAAAAAAAAAAAAAAAAAAAAAAAAAAAAAAAAAAAAAAAAAAAAAAAAAAAAAAAAAAAAAAAAAAAAAAAAAAAAAAAAAAAAAAAAAAAAAAAAAAAAAAAAAAAAAAAAAAAAAAAAAAAAAAAAAAAAAAAAAAAAAAAAAAAAAAAAAAAAAAAAAAAAAAAAAAAAAAAAAAAAAAAAAAAAAAAAAAAAAAAAAAAAAAAAAAAAAAAAAAAAAAAAAAAAAAAAAAAAAAAAAAAAAAAAAAAAAAAAAAAAAAAAAAAAAAAAAAAAAAAAAAAAAAAAAAAAAAAAAAAAAAAAAAAAAAAAAAAAAAAAAAAAAAAAAAAAAAAAAAAAAAAAAAAAAAAAAAAAAAAAAAAAAAAAAAAAAAAAAAAAAAAAAAAAAAAAAAAAAAAAAAAAAAAAAAAAAAAAAAAAAAAAAAAAAAAAAAAAAAAAAAAAAAAAAAAAAAAAAAAAAAAAAAAAAAAAAAAAAAAAAAAAAAAAAAAAAAAAAAAAAAAAAAAAAAAAAAAAAAAAAAAAAAAAAAAAAAAAAAAAAAAAAAAAAAAAAAAAAAAAAAAAAAAAAAAAAAAAAAAAAAAAAAAAAAAAAAAAAAAAAAAAAAAAAAAAAAAAAAAAAAAAAAAAAAAAAAAAAAAAAAAAAAAAAAAAAAAAAAAAAAAAAAAAAAAAAAAAAAAAAAAAAAAAAAAAAAAAAAAAAAAAAAAAAAAAAAAAAAAAAAAAAAAAAAAAAAAAAAAAAAAAAAAAAAAAAAAAAAAAAAAAAAAAAAAAAAAAAAAAAAAAAAAAAAAAAAAAAAAAAAAAAAAAAAAAAAAAAAAAAAAAAAAAAAAAAAAAAAAAAAAAAAAAAAAAAAAAAAAAAAAAAAAAAAAAAAAAAAAAAAAAAAAAAAAAAAAAAAAAAAAAAAAAAAAAAAAAAAAAAAAAAAAAAAAAAAAAAAAAAAAAAAAAAAAAAAAAAAAAAAAAAAAAAAAAAAAAAAAAAAAAAAAAAAAAAAAAAAAAAAAAAAAAAAAAAAAAAAAAAAAAAAAAAAAAAAAAAAAAAAAAAAAAAAAAAAAAAAAAAAAAAAAAAAAAAAAAAAAAAAAAAAAAAAAAAAAAAAAAAAAAAAAAAAAAAAAAAAAAAAAAAAAAAAAAAAAAAAAAAAAAAAAAAAAAAAAAAAAAAAAAAAAAAAAAAAAAAAAAAAAAAAAAAAAAAAAAAAAAAAAAAAAAAAAAAAAAAAAAAAAAAAAAAAAAAAAAAAAAAAAAAAAAAAAAAAAAAAAAAAAAAAAAAAAAAAAAAAAAAAAAAAAAAAAAAAAAAAAAAAAAAAAAAAAAAAAAAAAAAAAAAAAAAAAAAAAAAAAAAAAAAAAAAAAAAAAAAAAAAAAAAAAAAAAAAAAAAAAAAAAAAAAAAAAAAAAAAAAAAAAAAAAAAAAAAAAAAAAAAAAAAAAAAAAAAAAAAAAAAAAAAAAAAAAAAAAAAAAAAAAAAAAAAAAAAAAAAAAAAAAAAAAAAAAAAAAAAAAAAAAAAAAAAAAAAAAAAAAAAAAAAAAAAAAAAAAAAAAAAAAAAAAAAAAAAAAAAAAAAAAAAAAAAAAAAAAAAAAAAAAAAAAAAAAAAAAAAAAAAAAAAAAAAAAAAAAAAAAAAAAAAAAAAAAAAAAAAAAAAAAAAAAAAAAAAAAAAAAAAAAAAAAAAAAAAAAAAAAAAAAAAAAAAAAAAAAAAAAAAAAAAAAAAAAAAAAAAAAAAAAAAAAAAAAAAAAAAAAAAAAAAAAAAAAAAAAAAAAAAAAAAAAAAAAAAAAAAAAAAAAAAAAAAAAAAAAAAAAAAAAAAAAAAAAAAAAAAAAAAAAAAAAAAAAAAAAAAAAAAAAAAAAAAAAAAAAAAAAAAAAAAAAAAAAAAAAAAAAAAAAAAAAAAAAAAAAAAAAAAAAAAAAAAAAAAAAAAAAAAAAAAAAAAAAAAAAAAAAAAAAAAAAAAAAAAAAAAAAAAAAAAAAAAAAAAAAAAAAAAAAAAAAAAAAAAAAAAAAAAAAAAAAAAAAAAAAAAAAAAAAAAAAAAAAAAAAAAAAAAAAAAAAAAAAAAAAAAAAAAAAAAAAAAAAAAAAAAAAAAAAAAAAAAAAAAAAAAAAAAAAAAAAAAAAAAAAAAAAAAAAAAAAAAAAAAAAAAAAAAAAAAAAAAAAAAAAAAAAAAAAAAAAAAAAAAAAAAAAAAAAAAAAAAAAAAAAAAAAAAAAAAAAAAAAAAAAAAAAAAAAAAAAAAAAAAAAAAAAAAAAAAAAAAAAAAAAAAAAAAAAAAAAAAAAAAAAAAAAAAAAAAAAAAAAAAAAAAAAAAAAAAAAAAAAAAAAAAAAAAAAAAAAAAAAAAAAAAAAAAAAAAAAAAAAAAAAAAAAAAAAAAAAAAAAAAAAAAAAAAAAAAAAAAAAAAAAAAAAAAAAAAAAAAAAAAAAAAAAAAAAAAAAAAAAAAAAAAAAAAAAAAAAAAAAAAAAAAAAAAAAAAAAAAAAAAAAAAAAAAAAAAAAAAAAAAAAAAAAAAAAAAAAAAAAAAAAAAAAAAAAAAAAAAAAAAAAAAAAAAAAAAAAAAAAAAAAAAAAAAAAAAAAAAAAAAAAAAAAAAAAAAAAAAAAAAAAAAAAAAAAAAAAAAAAAAAAAAAAAAAAAAAAAAAAAAAAAAAAAAAAAAAAAAAAAAAAAAAAAAAAAAAAAAAAAAAAAAAAAAAAAAAAAAAAAAAAAAAAAAAAAAAAAAAAAAAAAAAAAAAAAAAAAAAAAAAAAAAAAAAAAAAAAAAAAAAAAAAAAAAAAAAAAAAAAAAAAAAAAAAAAAAAAAAAAAAAAAAAAAAAAAAAAAAAAAAAAAAAAAAAAAAAAAAAAAAAAAAAAAAAAAAAAAAAAAAAAAAAAAAAAAAAAAAAAAAAAAAAAAAAAAAAAAAAAAAAAAAAAAAAAAAAAAAAAAAAAAAAAAAAAAAAAAAAAAAAAAAAAAAAAAAAAAAAAAAAAAAAAAAAAAAAAAAAAAAAAAAAAAAAAAAAAAAAAAAAAAAAAAAAAAAAAAAAAAAAAAAAAAAAAAAAAAAAAAAAAAAAAAAAAAAAAAAAAAAAAAAAAAAAAAAAAAAAAAAAAAAAAAAAAAAAAAAAAAAAAAAAAAAAAAAAAAAAAAAAAAAAAAAAAAAAAAAAAAAAAAAAAAAAAAAAAAAAAAAAAAAAAAAAAAAAAAAAAAAAAAAAAAAAAAAAAAAAAAAAAAAAAAAAAAAAAAAAAAAAAAAAAAAAAAAAAAAAAAAAAAAAAAAAAAAAAAAAAAAAAAAAAAAAAAAAAAAAAAAAAAAAAAAAAAAAAAAAAAAAAAAAAAAAAAAAAAAAAAAAAAAAAAAAAAAAAAAAAAAAAAAAAAAAAAAAAAAAAAAAAAAAAAAAAAAAAAAAAAAAAAAAAAAAAAAAAAAAAAAAAAAAAAAAAAAAAAAAAAAAAAAAAAAAAAAAAAAAAAAAAAAAAAAAAAAAAAAAAAAAAAAAAAAAAAAAAAAAAAAAAAAAAAAAAAAAAAAAAAAAAAAAAAAAAAAAAAAAAAAAAAAAAAAAAAAAAAAAAAAAAAAAAAAAAAAAAAAAAAAAAAAAAAAAAAAAAAAAAAAAAAAAAAAAAAAAAAAAAAAAAAAAAAAAAAAAAAAAAAAAAAAAAAAAAAAAAAAAAAAAAAAAAAAAAAAAAAAAAAAAAAAAAAAAAAAAAAAAAAAAAAAAAAAAAAAAAAAAAAAAAAAAAAAAAAAAAAAAAAAAAAAAAAAAAAAAAAAAAAAAAAAAAAAAAAAAAAAAAAAAAAAAAAAAAAAAAAAAAAAAAAAAAAAAAAAAAAAAAAAAAAAAAAAAAAAAAAAAAAAAAAAAAAAAAAAAAAAAAAAAAAAAAAAAAAAAAAAAAAAAAAAAAAAAAAAAAAAAAAAAAAAAAAAAAAAAAAAAAAAAAAAAAAAAAAAAAAAAAAAAAAAAAAAAAAAAAAAAAAAAAAAAAAAAAAAAAAAAAAAAAAAAAAAAAAAAAAAAAAAAAAAAAAAAAAAAAAAAAAAAAAAAAAAAAAAAAAAAAAAAAAAAAAAAAAAAAAAAAAAAAAAAAAAAAAAAAAAAAAAAAAAAAAAAAAAAAAAAAAAAAAAAAAAAAAAAAAAAAAAAAAAAAAAAAAAAAAAAAAAAAAAAAAAAAAAAAAAAAAAAAAAAAAAAAAAAAAAAAAAAAAAAAAAAAAAAAAAAAAAAAAAAAAAAAAAAAAAAAAAAAAAAAAAAAAAAAAAAAAAAAAAAAAAAAAAAAAAAAAAAAAAAAAAAAAAAAAAAAAAAAAAAAAAAAAAAAAAAAAAAAAAAAAAAAAAAAAAAAAAAAAAAAAAAAAAAAAAAAAAAAAAAAAAAAAAAAAAAAAAAAAAAAAAAAAAAAAAAAAAAAAAAAAAAAAAAAAAAAAAAAAAAAAAAAAAAAAAAAAAAAAAAAAAAAAAAAAAAAAAAAAAAAAAAAAAAAAAAAAAAAAAAAAAAAAAAAAAAAAAAAAAAAAAAAAAAAAAAAAAAAAAAAAAAAAAAAAAAAAAAAAAAAAAAAAAAAAAAAAAAAAAAAAAAAAAAAAAAAAAAAAAAAAAAAAAAAAAAAAAAAAAAAAAAAAAAAAAAAAAAAAAAAAAAAAAAAAAAAAAAAAAAAAAAAAAAAAAAAAAAAAAAAAAAAAAAAAAAAAAAAAAAAAAAAAAAAAAAAAAAAAAAAAAAAAAAAAAAAAAAAAAAAAAAAAAAAAAAAAAAAAAAAAAAAAAAAAAAAAAAAAAAAAAAAAAAAAAAAAAAAAAAAAAAAAAAAAAAAAAAAAAAAAAAAAAAAAAAAAAAAAAAAAAAAAAAAAAAAAAAAAAAAAAAAAAAAAAAAAAAAAAAAAAAAAAAAAAAAAAAAAAAAAAAAAAAAAAAAAAAAAAAAAAAAAAAAAAAAAAAAAAAAAAAAAAAAAAAAAAAAAAAAAAAAAAAAAAAAAAAAAAAAAAAAAAAAAAAAAAAAAAAAAAAAAAAAAAAAAAAAAAAAAAAAAAAAAAAAAAAAAAAAAAAAAAAAAAAAAAAAAAAAAAAAAAAAAAAAAAAAAAAAAAAAAAAAAAAAAAAAAAAAAAAAAAAAAAAAAAAAAAAAAAAAAAAAAAAAAAAAAAAAAAAAAAAAAAAAAAAAAAAAAAAAAAAAAAAAAAAAAAAAAAAAAAAAAAAAAAAAAAAAAAAAAAAAAAAAAAAAAAAAAAAAAAAAAAAAAAAAAAAAAAAAAAAAAAAAAAAAAAAAAAAAAAAAAAAAAAAAAAAAAAAAAAAAAAAAAAAAAAAAAAAAAAAAAAAAAAAAAAAAAAAAAAAAAAAAAAAAAAAAAAAAAAAAAAAAAAAAAAAAAAAAAAAAAAAAAAAAAAAAAAAAAAAAAAAAAAAAAAAAAAAAAAAAAAAAAAAAAAAAAAAAAAAAAAAAAAAAAAAAAAAAAAAAAAAAAAAAAAAAAAAAAAAAAAAAAAAAAAAAAAAAAAAAAAAAAAAAAAAAAAAAAAAAAAAAAAAAAAAAAAAAAAAAAAAAAAAAAAAAAAAAAAAAAAAAAAAAAAAAAAAAAAAAAAAAAAAAAAAAAAAAAAAAAAAAAAAAAAAAAAAAAAAAAAAAAAAAAAAAAAAAAAAAAAAAAAAAAAAAAAAAAAAAAAAAAAAAAAAAAAAAAAAAAAAAAAAAAAAAAAAAAAAAAAAAAAAAAAAAAAAAAAAAAAAAAAAAAAAAAAAA=\" type=\"audio/x-wav\" />\n",
              "                    Your browser does not support the audio element.\n",
              "                </audio>\n",
              "              "
            ],
            "text/plain": [
              "<IPython.lib.display.Audio object>"
            ]
          },
          "metadata": {
            "tags": []
          },
          "execution_count": 14
        }
      ]
    }
  ]
}